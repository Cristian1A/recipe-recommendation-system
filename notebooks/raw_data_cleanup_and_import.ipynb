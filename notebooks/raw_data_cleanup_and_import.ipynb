{
 "cells": [
  {
   "cell_type": "markdown",
   "metadata": {},
   "source": [
    "# Raw data cleanup and import"
   ]
  },
  {
   "cell_type": "markdown",
   "metadata": {},
   "source": [
    "This notebook aims to clean the [raw recipe data](../data/raw/RAW_recipes.csv) obtained from [Food.com Recipes and Interactions dataset](https://www.kaggle.com/datasets/shuyangli94/food-com-recipes-and-user-interactions) in order to insert all recipe features into a MySQL DB.\n",
    "\n",
    "In taking a look at the csv, I have discovered that it contains several flaws that should be corrected before inserting your data into the database. For example, there is a nutritional value column in which several categories are intertwined within a single one that makes it difficult to understand the information, there are also several null values and outliers that are far from representing the true cost of preparing some of the recipes."
   ]
  },
  {
   "cell_type": "markdown",
   "metadata": {},
   "source": [
    "This notebook will therefore serve to correct these shortcomings and ultimately perform part of the exploratory data analysis (EDA) of the dataset. This will be used to transform the data for our future recommender model."
   ]
  },
  {
   "cell_type": "markdown",
   "metadata": {},
   "source": [
    "## Data cleanup"
   ]
  },
  {
   "cell_type": "markdown",
   "metadata": {},
   "source": [
    "### Understanding the dataset"
   ]
  },
  {
   "cell_type": "markdown",
   "metadata": {},
   "source": [
    "Food.com dataset comes with a bunch of CSVs including the data already processed (wich will be ignored because the goal of this project is to learn how to properly process data in order to build a functional recommender system)."
   ]
  },
  {
   "cell_type": "markdown",
   "metadata": {},
   "source": [
    "In this first part of the project, I will analyze [raw recipe data csv](../data/raw/RAW_recipes.csv) which contains many interesting features which will allow us to make an subsequent content based recommender such as the ingredients used in a recipe and its steps, as well as the elaboration time."
   ]
  },
  {
   "cell_type": "markdown",
   "metadata": {},
   "source": [
    "In order to evaluate the datasets we should firstly ensure we have installed the following libraries."
   ]
  },
  {
   "cell_type": "code",
   "execution_count": null,
   "metadata": {},
   "outputs": [],
   "source": [
    "%pip install pandas numpy matplotlib seaborn"
   ]
  },
  {
   "cell_type": "markdown",
   "metadata": {},
   "source": [
    "Once there are installed, we can import them."
   ]
  },
  {
   "cell_type": "code",
   "execution_count": 2,
   "metadata": {},
   "outputs": [],
   "source": [
    "import pandas as pd\n",
    "import numpy as np\n",
    "import matplotlib.pyplot as plt\n",
    "import seaborn as sns"
   ]
  },
  {
   "cell_type": "markdown",
   "metadata": {},
   "source": [
    "Let's read the csv."
   ]
  },
  {
   "cell_type": "code",
   "execution_count": 3,
   "metadata": {},
   "outputs": [
    {
     "data": {
      "text/html": [
       "<div>\n",
       "<style scoped>\n",
       "    .dataframe tbody tr th:only-of-type {\n",
       "        vertical-align: middle;\n",
       "    }\n",
       "\n",
       "    .dataframe tbody tr th {\n",
       "        vertical-align: top;\n",
       "    }\n",
       "\n",
       "    .dataframe thead th {\n",
       "        text-align: right;\n",
       "    }\n",
       "</style>\n",
       "<table border=\"1\" class=\"dataframe\">\n",
       "  <thead>\n",
       "    <tr style=\"text-align: right;\">\n",
       "      <th></th>\n",
       "      <th>name</th>\n",
       "      <th>id</th>\n",
       "      <th>minutes</th>\n",
       "      <th>contributor_id</th>\n",
       "      <th>submitted</th>\n",
       "      <th>tags</th>\n",
       "      <th>nutrition</th>\n",
       "      <th>n_steps</th>\n",
       "      <th>steps</th>\n",
       "      <th>description</th>\n",
       "      <th>ingredients</th>\n",
       "      <th>n_ingredients</th>\n",
       "    </tr>\n",
       "  </thead>\n",
       "  <tbody>\n",
       "    <tr>\n",
       "      <th>0</th>\n",
       "      <td>arriba   baked winter squash mexican style</td>\n",
       "      <td>137739</td>\n",
       "      <td>55</td>\n",
       "      <td>47892</td>\n",
       "      <td>2005-09-16</td>\n",
       "      <td>['60-minutes-or-less', 'time-to-make', 'course...</td>\n",
       "      <td>[51.5, 0.0, 13.0, 0.0, 2.0, 0.0, 4.0]</td>\n",
       "      <td>11</td>\n",
       "      <td>['make a choice and proceed with recipe', 'dep...</td>\n",
       "      <td>autumn is my favorite time of year to cook! th...</td>\n",
       "      <td>['winter squash', 'mexican seasoning', 'mixed ...</td>\n",
       "      <td>7</td>\n",
       "    </tr>\n",
       "    <tr>\n",
       "      <th>1</th>\n",
       "      <td>a bit different  breakfast pizza</td>\n",
       "      <td>31490</td>\n",
       "      <td>30</td>\n",
       "      <td>26278</td>\n",
       "      <td>2002-06-17</td>\n",
       "      <td>['30-minutes-or-less', 'time-to-make', 'course...</td>\n",
       "      <td>[173.4, 18.0, 0.0, 17.0, 22.0, 35.0, 1.0]</td>\n",
       "      <td>9</td>\n",
       "      <td>['preheat oven to 425 degrees f', 'press dough...</td>\n",
       "      <td>this recipe calls for the crust to be prebaked...</td>\n",
       "      <td>['prepared pizza crust', 'sausage patty', 'egg...</td>\n",
       "      <td>6</td>\n",
       "    </tr>\n",
       "    <tr>\n",
       "      <th>2</th>\n",
       "      <td>all in the kitchen  chili</td>\n",
       "      <td>112140</td>\n",
       "      <td>130</td>\n",
       "      <td>196586</td>\n",
       "      <td>2005-02-25</td>\n",
       "      <td>['time-to-make', 'course', 'preparation', 'mai...</td>\n",
       "      <td>[269.8, 22.0, 32.0, 48.0, 39.0, 27.0, 5.0]</td>\n",
       "      <td>6</td>\n",
       "      <td>['brown ground beef in large pot', 'add choppe...</td>\n",
       "      <td>this modified version of 'mom's' chili was a h...</td>\n",
       "      <td>['ground beef', 'yellow onions', 'diced tomato...</td>\n",
       "      <td>13</td>\n",
       "    </tr>\n",
       "    <tr>\n",
       "      <th>3</th>\n",
       "      <td>alouette  potatoes</td>\n",
       "      <td>59389</td>\n",
       "      <td>45</td>\n",
       "      <td>68585</td>\n",
       "      <td>2003-04-14</td>\n",
       "      <td>['60-minutes-or-less', 'time-to-make', 'course...</td>\n",
       "      <td>[368.1, 17.0, 10.0, 2.0, 14.0, 8.0, 20.0]</td>\n",
       "      <td>11</td>\n",
       "      <td>['place potatoes in a large pot of lightly sal...</td>\n",
       "      <td>this is a super easy, great tasting, make ahea...</td>\n",
       "      <td>['spreadable cheese with garlic and herbs', 'n...</td>\n",
       "      <td>11</td>\n",
       "    </tr>\n",
       "    <tr>\n",
       "      <th>4</th>\n",
       "      <td>amish  tomato ketchup  for canning</td>\n",
       "      <td>44061</td>\n",
       "      <td>190</td>\n",
       "      <td>41706</td>\n",
       "      <td>2002-10-25</td>\n",
       "      <td>['weeknight', 'time-to-make', 'course', 'main-...</td>\n",
       "      <td>[352.9, 1.0, 337.0, 23.0, 3.0, 0.0, 28.0]</td>\n",
       "      <td>5</td>\n",
       "      <td>['mix all ingredients&amp; boil for 2 1 / 2 hours ...</td>\n",
       "      <td>my dh's amish mother raised him on this recipe...</td>\n",
       "      <td>['tomato juice', 'apple cider vinegar', 'sugar...</td>\n",
       "      <td>8</td>\n",
       "    </tr>\n",
       "  </tbody>\n",
       "</table>\n",
       "</div>"
      ],
      "text/plain": [
       "                                         name      id  minutes  \\\n",
       "0  arriba   baked winter squash mexican style  137739       55   \n",
       "1            a bit different  breakfast pizza   31490       30   \n",
       "2                   all in the kitchen  chili  112140      130   \n",
       "3                          alouette  potatoes   59389       45   \n",
       "4          amish  tomato ketchup  for canning   44061      190   \n",
       "\n",
       "   contributor_id   submitted  \\\n",
       "0           47892  2005-09-16   \n",
       "1           26278  2002-06-17   \n",
       "2          196586  2005-02-25   \n",
       "3           68585  2003-04-14   \n",
       "4           41706  2002-10-25   \n",
       "\n",
       "                                                tags  \\\n",
       "0  ['60-minutes-or-less', 'time-to-make', 'course...   \n",
       "1  ['30-minutes-or-less', 'time-to-make', 'course...   \n",
       "2  ['time-to-make', 'course', 'preparation', 'mai...   \n",
       "3  ['60-minutes-or-less', 'time-to-make', 'course...   \n",
       "4  ['weeknight', 'time-to-make', 'course', 'main-...   \n",
       "\n",
       "                                    nutrition  n_steps  \\\n",
       "0       [51.5, 0.0, 13.0, 0.0, 2.0, 0.0, 4.0]       11   \n",
       "1   [173.4, 18.0, 0.0, 17.0, 22.0, 35.0, 1.0]        9   \n",
       "2  [269.8, 22.0, 32.0, 48.0, 39.0, 27.0, 5.0]        6   \n",
       "3   [368.1, 17.0, 10.0, 2.0, 14.0, 8.0, 20.0]       11   \n",
       "4   [352.9, 1.0, 337.0, 23.0, 3.0, 0.0, 28.0]        5   \n",
       "\n",
       "                                               steps  \\\n",
       "0  ['make a choice and proceed with recipe', 'dep...   \n",
       "1  ['preheat oven to 425 degrees f', 'press dough...   \n",
       "2  ['brown ground beef in large pot', 'add choppe...   \n",
       "3  ['place potatoes in a large pot of lightly sal...   \n",
       "4  ['mix all ingredients& boil for 2 1 / 2 hours ...   \n",
       "\n",
       "                                         description  \\\n",
       "0  autumn is my favorite time of year to cook! th...   \n",
       "1  this recipe calls for the crust to be prebaked...   \n",
       "2  this modified version of 'mom's' chili was a h...   \n",
       "3  this is a super easy, great tasting, make ahea...   \n",
       "4  my dh's amish mother raised him on this recipe...   \n",
       "\n",
       "                                         ingredients  n_ingredients  \n",
       "0  ['winter squash', 'mexican seasoning', 'mixed ...              7  \n",
       "1  ['prepared pizza crust', 'sausage patty', 'egg...              6  \n",
       "2  ['ground beef', 'yellow onions', 'diced tomato...             13  \n",
       "3  ['spreadable cheese with garlic and herbs', 'n...             11  \n",
       "4  ['tomato juice', 'apple cider vinegar', 'sugar...              8  "
      ]
     },
     "execution_count": 3,
     "metadata": {},
     "output_type": "execute_result"
    }
   ],
   "source": [
    "recipe_df = pd.read_csv('../data/raw/RAW_recipes.csv')\n",
    "recipe_df.head()"
   ]
  },
  {
   "cell_type": "markdown",
   "metadata": {},
   "source": [
    "Displaying general information about the structure of the dataset."
   ]
  },
  {
   "cell_type": "code",
   "execution_count": 4,
   "metadata": {},
   "outputs": [
    {
     "name": "stdout",
     "output_type": "stream",
     "text": [
      "<class 'pandas.core.frame.DataFrame'>\n",
      "RangeIndex: 231637 entries, 0 to 231636\n",
      "Data columns (total 12 columns):\n",
      " #   Column          Non-Null Count   Dtype \n",
      "---  ------          --------------   ----- \n",
      " 0   name            231636 non-null  object\n",
      " 1   id              231637 non-null  int64 \n",
      " 2   minutes         231637 non-null  int64 \n",
      " 3   contributor_id  231637 non-null  int64 \n",
      " 4   submitted       231637 non-null  object\n",
      " 5   tags            231637 non-null  object\n",
      " 6   nutrition       231637 non-null  object\n",
      " 7   n_steps         231637 non-null  int64 \n",
      " 8   steps           231637 non-null  object\n",
      " 9   description     226658 non-null  object\n",
      " 10  ingredients     231637 non-null  object\n",
      " 11  n_ingredients   231637 non-null  int64 \n",
      "dtypes: int64(5), object(7)\n",
      "memory usage: 21.2+ MB\n"
     ]
    }
   ],
   "source": [
    "recipe_df.info()"
   ]
  },
  {
   "cell_type": "markdown",
   "metadata": {},
   "source": [
    "As we can see, we have a dataset wich has 231637 entries and a total fo 12 columns. It presents many cathegories that are of interest of our future recommender, some of them contains numerical data and many other cathegorical data."
   ]
  },
  {
   "cell_type": "markdown",
   "metadata": {},
   "source": [
    "### Exploratory Data Analysis (EDA)"
   ]
  },
  {
   "cell_type": "markdown",
   "metadata": {},
   "source": [
    "The exploratory data analysis (EDA) is a crucial step in examinating data to understand its fundamental features, identify patterns, detect anomalies and test hypotheses."
   ]
  },
  {
   "cell_type": "markdown",
   "metadata": {},
   "source": [
    "Since our purpose here is not to prepare the data to train the recommender, but to have a clean representation of it and then add it to our database in order to get data about the recipes from the API Rest server, we will focus on reorganising some categories, modify or remove some outliers or null values."
   ]
  },
  {
   "cell_type": "markdown",
   "metadata": {},
   "source": [
    "#### Processing null values"
   ]
  },
  {
   "cell_type": "markdown",
   "metadata": {},
   "source": [
    "I will check how many null values our rows contain to later decide whether to input data or erase these rows."
   ]
  },
  {
   "cell_type": "code",
   "execution_count": 5,
   "metadata": {},
   "outputs": [
    {
     "data": {
      "text/plain": [
       "name                 1\n",
       "id                   0\n",
       "minutes              0\n",
       "contributor_id       0\n",
       "submitted            0\n",
       "tags                 0\n",
       "nutrition            0\n",
       "n_steps              0\n",
       "steps                0\n",
       "description       4979\n",
       "ingredients          0\n",
       "n_ingredients        0\n",
       "dtype: int64"
      ]
     },
     "execution_count": 5,
     "metadata": {},
     "output_type": "execute_result"
    }
   ],
   "source": [
    "recipe_df.isnull().sum()"
   ]
  },
  {
   "cell_type": "code",
   "execution_count": 6,
   "metadata": {},
   "outputs": [
    {
     "data": {
      "text/plain": [
       "name              0.000004\n",
       "id                0.000000\n",
       "minutes           0.000000\n",
       "contributor_id    0.000000\n",
       "submitted         0.000000\n",
       "tags              0.000000\n",
       "nutrition         0.000000\n",
       "n_steps           0.000000\n",
       "steps             0.000000\n",
       "description       0.021495\n",
       "ingredients       0.000000\n",
       "n_ingredients     0.000000\n",
       "dtype: float64"
      ]
     },
     "execution_count": 6,
     "metadata": {},
     "output_type": "execute_result"
    }
   ],
   "source": [
    "null_percentage = recipe_df.isnull().sum()/len(recipe_df)\n",
    "null_percentage"
   ]
  },
  {
   "cell_type": "markdown",
   "metadata": {},
   "source": [
    "As we can see, this dataset only contains several null values among the *description* column and one in the *name* column."
   ]
  },
  {
   "cell_type": "code",
   "execution_count": 7,
   "metadata": {},
   "outputs": [],
   "source": [
    "# Ploting null value percentage per cathegory\n",
    "def plot_null_values(null_percentage):\n",
    "    plt.figure(figsize=(10, 6))\n",
    "    sns.barplot(x=null_percentage.index, y=null_percentage)\n",
    "    plt.xticks(rotation=90)\n",
    "    plt.ylabel('Percentage of null values (%)')\n",
    "    plt.title('Percentage of null values per column')\n",
    "    plt.show()"
   ]
  },
  {
   "cell_type": "code",
   "execution_count": 8,
   "metadata": {},
   "outputs": [
    {
     "data": {
      "image/png": "[encoded data removed]",
      "text/plain": [
       "<Figure size 1000x600 with 1 Axes>"
      ]
     },
     "metadata": {},
     "output_type": "display_data"
    }
   ],
   "source": [
    "plot_null_values(null_percentage)"
   ]
  },
  {
   "cell_type": "code",
   "execution_count": 9,
   "metadata": {},
   "outputs": [
    {
     "data": {
      "text/plain": [
       "<Axes: >"
      ]
     },
     "execution_count": 9,
     "metadata": {},
     "output_type": "execute_result"
    },
    {
     "data": {
      "image/png": "[encoded data removed]",
      "text/plain": [
       "<Figure size 640x480 with 1 Axes>"
      ]
     },
     "metadata": {},
     "output_type": "display_data"
    }
   ],
   "source": [
    "sns.heatmap(recipe_df.isnull(), cbar=False, cmap='viridis')"
   ]
  },
  {
   "cell_type": "markdown",
   "metadata": {},
   "source": [
    "Regarding the *description* column, it contains almost 22% of null values. The description field is particularly valuable because it provides contextual information about the recipe, which can be crucial for multiple natural language processing (NLP) tasks. For example, this field could be transformed into an embedding vector to capture semantic similarities between recipes. Such embeddings can then be used in algorithms like K-Nearest Neighbors (KNN) to find recipes with similar descriptions, enhancing the accuracy of a content-based recommender system.\n",
    "\n",
    "Keeping records with null description values could negatively impact the model's performance since these records would lack the necessary context for meaningful comparisons. Additionally, imputing these values could introduce noise, as generating synthetic or placeholder descriptions might not accurately reflect the underlying data. Therefore, to maintain data quality and ensure the integrity of the recommender system, I have decided to drop all records that do not contain a description."
   ]
  },
  {
   "cell_type": "code",
   "execution_count": 10,
   "metadata": {},
   "outputs": [],
   "source": [
    "recipe_df_cleaned = recipe_df.dropna(subset=['description'])"
   ]
  },
  {
   "cell_type": "markdown",
   "metadata": {},
   "source": [
    "Apart from *description*, there is still one remaining null value at *name* column. Let's take a look at the row data."
   ]
  },
  {
   "cell_type": "code",
   "execution_count": 11,
   "metadata": {},
   "outputs": [
    {
     "data": {
      "text/html": [
       "<div>\n",
       "<style scoped>\n",
       "    .dataframe tbody tr th:only-of-type {\n",
       "        vertical-align: middle;\n",
       "    }\n",
       "\n",
       "    .dataframe tbody tr th {\n",
       "        vertical-align: top;\n",
       "    }\n",
       "\n",
       "    .dataframe thead th {\n",
       "        text-align: right;\n",
       "    }\n",
       "</style>\n",
       "<table border=\"1\" class=\"dataframe\">\n",
       "  <thead>\n",
       "    <tr style=\"text-align: right;\">\n",
       "      <th></th>\n",
       "      <th>name</th>\n",
       "      <th>id</th>\n",
       "      <th>minutes</th>\n",
       "      <th>contributor_id</th>\n",
       "      <th>submitted</th>\n",
       "      <th>tags</th>\n",
       "      <th>nutrition</th>\n",
       "      <th>n_steps</th>\n",
       "      <th>steps</th>\n",
       "      <th>description</th>\n",
       "      <th>ingredients</th>\n",
       "      <th>n_ingredients</th>\n",
       "    </tr>\n",
       "  </thead>\n",
       "  <tbody>\n",
       "    <tr>\n",
       "      <th>721</th>\n",
       "      <td>NaN</td>\n",
       "      <td>368257</td>\n",
       "      <td>10</td>\n",
       "      <td>779451</td>\n",
       "      <td>2009-04-27</td>\n",
       "      <td>['15-minutes-or-less', 'time-to-make', 'course...</td>\n",
       "      <td>[1596.2, 249.0, 155.0, 0.0, 2.0, 112.0, 14.0]</td>\n",
       "      <td>6</td>\n",
       "      <td>['in a bowl , combine ingredients except for o...</td>\n",
       "      <td>-------------</td>\n",
       "      <td>['lemon', 'honey', 'horseradish mustard', 'gar...</td>\n",
       "      <td>10</td>\n",
       "    </tr>\n",
       "  </tbody>\n",
       "</table>\n",
       "</div>"
      ],
      "text/plain": [
       "    name      id  minutes  contributor_id   submitted  \\\n",
       "721  NaN  368257       10          779451  2009-04-27   \n",
       "\n",
       "                                                  tags  \\\n",
       "721  ['15-minutes-or-less', 'time-to-make', 'course...   \n",
       "\n",
       "                                         nutrition  n_steps  \\\n",
       "721  [1596.2, 249.0, 155.0, 0.0, 2.0, 112.0, 14.0]        6   \n",
       "\n",
       "                                                 steps    description  \\\n",
       "721  ['in a bowl , combine ingredients except for o...  -------------   \n",
       "\n",
       "                                           ingredients  n_ingredients  \n",
       "721  ['lemon', 'honey', 'horseradish mustard', 'gar...             10  "
      ]
     },
     "execution_count": 11,
     "metadata": {},
     "output_type": "execute_result"
    }
   ],
   "source": [
    "last_null_row = recipe_df_cleaned[recipe_df_cleaned['name'].isnull()]\n",
    "last_null_row"
   ]
  },
  {
   "cell_type": "markdown",
   "metadata": {},
   "source": [
    "The previous row did not contain an understable nor usefull description, so we can delete it."
   ]
  },
  {
   "cell_type": "code",
   "execution_count": 12,
   "metadata": {},
   "outputs": [],
   "source": [
    "recipe_df_cleaned = recipe_df_cleaned.drop(last_null_row.index)"
   ]
  },
  {
   "cell_type": "markdown",
   "metadata": {},
   "source": [
    "#### Analyzing numeric columns"
   ]
  },
  {
   "cell_type": "markdown",
   "metadata": {},
   "source": [
    "Selecting numeric columns."
   ]
  },
  {
   "cell_type": "code",
   "execution_count": 13,
   "metadata": {},
   "outputs": [
    {
     "data": {
      "text/plain": [
       "Index(['id', 'minutes', 'contributor_id', 'n_steps', 'n_ingredients'], dtype='object')"
      ]
     },
     "execution_count": 13,
     "metadata": {},
     "output_type": "execute_result"
    }
   ],
   "source": [
    "non_cathegorical_cols = recipe_df_cleaned.select_dtypes(exclude=['object', 'category']).columns\n",
    "non_cathegorical_cols"
   ]
  },
  {
   "cell_type": "markdown",
   "metadata": {},
   "source": [
    "Let's now see how many different values we have in each numeric cathegory."
   ]
  },
  {
   "cell_type": "code",
   "execution_count": 14,
   "metadata": {},
   "outputs": [
    {
     "name": "stdout",
     "output_type": "stream",
     "text": [
      "id 226657 1.0\n",
      "minutes 877 0.0039\n",
      "contributor_id 27693 0.1222\n",
      "n_steps 94 0.0004\n",
      "n_ingredients 41 0.0002\n"
     ]
    }
   ],
   "source": [
    "for col in non_cathegorical_cols:\n",
    "    nunique = recipe_df_cleaned[col].nunique()\n",
    "    print(col, nunique, round(nunique/len(recipe_df_cleaned), 4))"
   ]
  },
  {
   "cell_type": "markdown",
   "metadata": {},
   "source": [
    "All the column *id* values are unique, so we can remove when training our model."
   ]
  },
  {
   "cell_type": "markdown",
   "metadata": {},
   "source": [
    "Let's now explore the numeric colums to see if we detect any kind of anomalies in their standard statistics."
   ]
  },
  {
   "cell_type": "code",
   "execution_count": 15,
   "metadata": {},
   "outputs": [
    {
     "data": {
      "text/html": [
       "<div>\n",
       "<style scoped>\n",
       "    .dataframe tbody tr th:only-of-type {\n",
       "        vertical-align: middle;\n",
       "    }\n",
       "\n",
       "    .dataframe tbody tr th {\n",
       "        vertical-align: top;\n",
       "    }\n",
       "\n",
       "    .dataframe thead th {\n",
       "        text-align: right;\n",
       "    }\n",
       "</style>\n",
       "<table border=\"1\" class=\"dataframe\">\n",
       "  <thead>\n",
       "    <tr style=\"text-align: right;\">\n",
       "      <th></th>\n",
       "      <th>id</th>\n",
       "      <th>minutes</th>\n",
       "      <th>contributor_id</th>\n",
       "      <th>n_steps</th>\n",
       "      <th>n_ingredients</th>\n",
       "    </tr>\n",
       "  </thead>\n",
       "  <tbody>\n",
       "    <tr>\n",
       "      <th>count</th>\n",
       "      <td>226657.000000</td>\n",
       "      <td>2.266570e+05</td>\n",
       "      <td>2.266570e+05</td>\n",
       "      <td>226657.000000</td>\n",
       "      <td>226657.000000</td>\n",
       "    </tr>\n",
       "    <tr>\n",
       "      <th>mean</th>\n",
       "      <td>226097.564368</td>\n",
       "      <td>9.602472e+03</td>\n",
       "      <td>5.655471e+06</td>\n",
       "      <td>9.773927</td>\n",
       "      <td>9.054170</td>\n",
       "    </tr>\n",
       "    <tr>\n",
       "      <th>std</th>\n",
       "      <td>139802.640862</td>\n",
       "      <td>4.510715e+06</td>\n",
       "      <td>1.008784e+08</td>\n",
       "      <td>5.999824</td>\n",
       "      <td>3.740942</td>\n",
       "    </tr>\n",
       "    <tr>\n",
       "      <th>min</th>\n",
       "      <td>38.000000</td>\n",
       "      <td>0.000000e+00</td>\n",
       "      <td>2.700000e+01</td>\n",
       "      <td>0.000000</td>\n",
       "      <td>1.000000</td>\n",
       "    </tr>\n",
       "    <tr>\n",
       "      <th>25%</th>\n",
       "      <td>105707.000000</td>\n",
       "      <td>2.000000e+01</td>\n",
       "      <td>5.810400e+04</td>\n",
       "      <td>6.000000</td>\n",
       "      <td>6.000000</td>\n",
       "    </tr>\n",
       "    <tr>\n",
       "      <th>50%</th>\n",
       "      <td>211971.000000</td>\n",
       "      <td>4.000000e+01</td>\n",
       "      <td>1.807890e+05</td>\n",
       "      <td>9.000000</td>\n",
       "      <td>9.000000</td>\n",
       "    </tr>\n",
       "    <tr>\n",
       "      <th>75%</th>\n",
       "      <td>336737.000000</td>\n",
       "      <td>6.500000e+01</td>\n",
       "      <td>4.091060e+05</td>\n",
       "      <td>12.000000</td>\n",
       "      <td>11.000000</td>\n",
       "    </tr>\n",
       "    <tr>\n",
       "      <th>max</th>\n",
       "      <td>537716.000000</td>\n",
       "      <td>2.147484e+09</td>\n",
       "      <td>2.002290e+09</td>\n",
       "      <td>145.000000</td>\n",
       "      <td>43.000000</td>\n",
       "    </tr>\n",
       "  </tbody>\n",
       "</table>\n",
       "</div>"
      ],
      "text/plain": [
       "                  id       minutes  contributor_id        n_steps  \\\n",
       "count  226657.000000  2.266570e+05    2.266570e+05  226657.000000   \n",
       "mean   226097.564368  9.602472e+03    5.655471e+06       9.773927   \n",
       "std    139802.640862  4.510715e+06    1.008784e+08       5.999824   \n",
       "min        38.000000  0.000000e+00    2.700000e+01       0.000000   \n",
       "25%    105707.000000  2.000000e+01    5.810400e+04       6.000000   \n",
       "50%    211971.000000  4.000000e+01    1.807890e+05       9.000000   \n",
       "75%    336737.000000  6.500000e+01    4.091060e+05      12.000000   \n",
       "max    537716.000000  2.147484e+09    2.002290e+09     145.000000   \n",
       "\n",
       "       n_ingredients  \n",
       "count  226657.000000  \n",
       "mean        9.054170  \n",
       "std         3.740942  \n",
       "min         1.000000  \n",
       "25%         6.000000  \n",
       "50%         9.000000  \n",
       "75%        11.000000  \n",
       "max        43.000000  "
      ]
     },
     "execution_count": 15,
     "metadata": {},
     "output_type": "execute_result"
    }
   ],
   "source": [
    "recipe_df_cleaned.describe()"
   ]
  },
  {
   "cell_type": "markdown",
   "metadata": {},
   "source": [
    "Extreme data (min and max values of each column) could be an indication that some inconclusive or unrealistic data needs to be discarded."
   ]
  },
  {
   "cell_type": "markdown",
   "metadata": {},
   "source": [
    "##### Outliers"
   ]
  },
  {
   "cell_type": "markdown",
   "metadata": {},
   "source": [
    "We can see how in the minutes column there are values that have a preparation time of 0 minutes, let's see what we can do to correct it."
   ]
  },
  {
   "cell_type": "code",
   "execution_count": 16,
   "metadata": {},
   "outputs": [
    {
     "data": {
      "text/plain": [
       "<Axes: xlabel='minutes'>"
      ]
     },
     "execution_count": 16,
     "metadata": {},
     "output_type": "execute_result"
    },
    {
     "data": {
      "image/png": "[encoded data removed]",
      "text/plain": [
       "<Figure size 640x480 with 1 Axes>"
      ]
     },
     "metadata": {},
     "output_type": "display_data"
    }
   ],
   "source": [
    "sns.boxplot(x=recipe_df_cleaned['minutes'])"
   ]
  },
  {
   "cell_type": "code",
   "execution_count": 17,
   "metadata": {},
   "outputs": [
    {
     "data": {
      "text/html": [
       "<div>\n",
       "<style scoped>\n",
       "    .dataframe tbody tr th:only-of-type {\n",
       "        vertical-align: middle;\n",
       "    }\n",
       "\n",
       "    .dataframe tbody tr th {\n",
       "        vertical-align: top;\n",
       "    }\n",
       "\n",
       "    .dataframe thead th {\n",
       "        text-align: right;\n",
       "    }\n",
       "</style>\n",
       "<table border=\"1\" class=\"dataframe\">\n",
       "  <thead>\n",
       "    <tr style=\"text-align: right;\">\n",
       "      <th></th>\n",
       "      <th>name</th>\n",
       "      <th>id</th>\n",
       "      <th>minutes</th>\n",
       "      <th>contributor_id</th>\n",
       "      <th>submitted</th>\n",
       "      <th>tags</th>\n",
       "      <th>nutrition</th>\n",
       "      <th>n_steps</th>\n",
       "      <th>steps</th>\n",
       "      <th>description</th>\n",
       "      <th>ingredients</th>\n",
       "      <th>n_ingredients</th>\n",
       "    </tr>\n",
       "  </thead>\n",
       "  <tbody>\n",
       "    <tr>\n",
       "      <th>3079</th>\n",
       "      <td>albanian byrek</td>\n",
       "      <td>4880</td>\n",
       "      <td>0</td>\n",
       "      <td>1534</td>\n",
       "      <td>1999-11-24</td>\n",
       "      <td>['15-minutes-or-less', 'time-to-make', 'course...</td>\n",
       "      <td>[354.4, 42.0, 25.0, 59.0, 37.0, 37.0, 2.0]</td>\n",
       "      <td>14</td>\n",
       "      <td>['prepare the dough with flour , 1 and a half ...</td>\n",
       "      <td>the directions to this are vague, but maybe yo...</td>\n",
       "      <td>['flour', 'water', 'oil', 'vinegar', 'salt', '...</td>\n",
       "      <td>9</td>\n",
       "    </tr>\n",
       "    <tr>\n",
       "      <th>3440</th>\n",
       "      <td>all in one tuna casserole</td>\n",
       "      <td>7009</td>\n",
       "      <td>0</td>\n",
       "      <td>35526</td>\n",
       "      <td>2000-03-06</td>\n",
       "      <td>['15-minutes-or-less', 'time-to-make', 'course...</td>\n",
       "      <td>[551.2, 33.0, 12.0, 46.0, 63.0, 51.0, 18.0]</td>\n",
       "      <td>5</td>\n",
       "      <td>['preheat oven to 350 degrees f', 'in large bo...</td>\n",
       "      <td>i recently adopted this recipe.  i made major ...</td>\n",
       "      <td>['onion soup mix', 'milk', 'frozen peas and ca...</td>\n",
       "      <td>7</td>\n",
       "    </tr>\n",
       "    <tr>\n",
       "      <th>5153</th>\n",
       "      <td>an mochi  1</td>\n",
       "      <td>43301</td>\n",
       "      <td>0</td>\n",
       "      <td>32020</td>\n",
       "      <td>2002-10-16</td>\n",
       "      <td>['15-minutes-or-less', 'time-to-make', 'course...</td>\n",
       "      <td>[1543.6, 6.0, 401.0, 0.0, 37.0, 6.0, 117.0]</td>\n",
       "      <td>11</td>\n",
       "      <td>['boil water and sugar together', 'remove from...</td>\n",
       "      <td>from hawai'i's best mochi recipe book that my ...</td>\n",
       "      <td>['mochiko sweet rice flour', 'sugar', 'water',...</td>\n",
       "      <td>5</td>\n",
       "    </tr>\n",
       "    <tr>\n",
       "      <th>5266</th>\n",
       "      <td>andouille in comforting barbecue sauce</td>\n",
       "      <td>6511</td>\n",
       "      <td>0</td>\n",
       "      <td>47510</td>\n",
       "      <td>2000-03-06</td>\n",
       "      <td>['weeknight', '15-minutes-or-less', 'time-to-m...</td>\n",
       "      <td>[180.8, 21.0, 6.0, 25.0, 7.0, 16.0, 1.0]</td>\n",
       "      <td>12</td>\n",
       "      <td>['saute onions , celery , bell pepper , and pa...</td>\n",
       "      <td>this is one of the zaar recipes that i adopted...</td>\n",
       "      <td>['onions', 'celery', 'bell pepper', 'parsley',...</td>\n",
       "      <td>12</td>\n",
       "    </tr>\n",
       "    <tr>\n",
       "      <th>5725</th>\n",
       "      <td>another bean salad</td>\n",
       "      <td>7590</td>\n",
       "      <td>0</td>\n",
       "      <td>39547</td>\n",
       "      <td>2000-03-13</td>\n",
       "      <td>['15-minutes-or-less', 'time-to-make', 'course...</td>\n",
       "      <td>[160.5, 0.0, 89.0, 5.0, 9.0, 0.0, 11.0]</td>\n",
       "      <td>4</td>\n",
       "      <td>['combine sugar , salt vinegar in pan , bring ...</td>\n",
       "      <td>a sweet, tangy bean salad.</td>\n",
       "      <td>['sugar', 'salt', 'vinegar', 'green beans', 'y...</td>\n",
       "      <td>11</td>\n",
       "    </tr>\n",
       "  </tbody>\n",
       "</table>\n",
       "</div>"
      ],
      "text/plain": [
       "                                        name     id  minutes  contributor_id  \\\n",
       "3079                          albanian byrek   4880        0            1534   \n",
       "3440               all in one tuna casserole   7009        0           35526   \n",
       "5153                             an mochi  1  43301        0           32020   \n",
       "5266  andouille in comforting barbecue sauce   6511        0           47510   \n",
       "5725                      another bean salad   7590        0           39547   \n",
       "\n",
       "       submitted                                               tags  \\\n",
       "3079  1999-11-24  ['15-minutes-or-less', 'time-to-make', 'course...   \n",
       "3440  2000-03-06  ['15-minutes-or-less', 'time-to-make', 'course...   \n",
       "5153  2002-10-16  ['15-minutes-or-less', 'time-to-make', 'course...   \n",
       "5266  2000-03-06  ['weeknight', '15-minutes-or-less', 'time-to-m...   \n",
       "5725  2000-03-13  ['15-minutes-or-less', 'time-to-make', 'course...   \n",
       "\n",
       "                                        nutrition  n_steps  \\\n",
       "3079   [354.4, 42.0, 25.0, 59.0, 37.0, 37.0, 2.0]       14   \n",
       "3440  [551.2, 33.0, 12.0, 46.0, 63.0, 51.0, 18.0]        5   \n",
       "5153  [1543.6, 6.0, 401.0, 0.0, 37.0, 6.0, 117.0]       11   \n",
       "5266     [180.8, 21.0, 6.0, 25.0, 7.0, 16.0, 1.0]       12   \n",
       "5725      [160.5, 0.0, 89.0, 5.0, 9.0, 0.0, 11.0]        4   \n",
       "\n",
       "                                                  steps  \\\n",
       "3079  ['prepare the dough with flour , 1 and a half ...   \n",
       "3440  ['preheat oven to 350 degrees f', 'in large bo...   \n",
       "5153  ['boil water and sugar together', 'remove from...   \n",
       "5266  ['saute onions , celery , bell pepper , and pa...   \n",
       "5725  ['combine sugar , salt vinegar in pan , bring ...   \n",
       "\n",
       "                                            description  \\\n",
       "3079  the directions to this are vague, but maybe yo...   \n",
       "3440  i recently adopted this recipe.  i made major ...   \n",
       "5153  from hawai'i's best mochi recipe book that my ...   \n",
       "5266  this is one of the zaar recipes that i adopted...   \n",
       "5725                         a sweet, tangy bean salad.   \n",
       "\n",
       "                                            ingredients  n_ingredients  \n",
       "3079  ['flour', 'water', 'oil', 'vinegar', 'salt', '...              9  \n",
       "3440  ['onion soup mix', 'milk', 'frozen peas and ca...              7  \n",
       "5153  ['mochiko sweet rice flour', 'sugar', 'water',...              5  \n",
       "5266  ['onions', 'celery', 'bell pepper', 'parsley',...             12  \n",
       "5725  ['sugar', 'salt', 'vinegar', 'green beans', 'y...             11  "
      ]
     },
     "execution_count": 17,
     "metadata": {},
     "output_type": "execute_result"
    }
   ],
   "source": [
    "zero_min_preparation_rows = recipe_df_cleaned[recipe_df_cleaned['minutes'] == 0]\n",
    "zero_min_preparation_rows.head()"
   ]
  },
  {
   "cell_type": "markdown",
   "metadata": {},
   "source": [
    "There are several rows containing the tag ‘in 15 minutes or less’, so we can check if these two characteristics are related: that the minutes are 0 and that they have this tag."
   ]
  },
  {
   "cell_type": "markdown",
   "metadata": {},
   "source": [
    "To get all the rows which have the \"15-minutes-or-less\" tag, we need to import pythoon's *ast* mudule."
   ]
  },
  {
   "cell_type": "code",
   "execution_count": 18,
   "metadata": {},
   "outputs": [],
   "source": [
    "import ast"
   ]
  },
  {
   "cell_type": "code",
   "execution_count": 19,
   "metadata": {},
   "outputs": [],
   "source": [
    "recipe_df_cleaned['tags'] = recipe_df_cleaned['tags'].apply(lambda x: ast.literal_eval(x) if isinstance(x, str) else x)"
   ]
  },
  {
   "cell_type": "code",
   "execution_count": 20,
   "metadata": {},
   "outputs": [
    {
     "data": {
      "text/plain": [
       "1.0"
      ]
     },
     "execution_count": 20,
     "metadata": {},
     "output_type": "execute_result"
    }
   ],
   "source": [
    "zero_min_rows = recipe_df_cleaned[recipe_df_cleaned['minutes'] == 0]\n",
    "contains_tag = zero_min_rows['tags'].apply(lambda tags: '15-minutes-or-less' in tags)\n",
    "contains_tag.sum() / len(zero_min_preparation_rows)"
   ]
  },
  {
   "cell_type": "markdown",
   "metadata": {},
   "source": [
    "Although it is not known whether all recipes can be made in less than 15 minutes, it would be convenient to input a value of 15 to these rows for convenience."
   ]
  },
  {
   "cell_type": "code",
   "execution_count": 21,
   "metadata": {},
   "outputs": [],
   "source": [
    "recipe_df_cleaned.loc[recipe_df_cleaned['minutes'] == 0, 'minutes'] = 15"
   ]
  },
  {
   "cell_type": "markdown",
   "metadata": {},
   "source": [
    "Now, let's replace as well the higher values to quantile 95."
   ]
  },
  {
   "cell_type": "code",
   "execution_count": 22,
   "metadata": {},
   "outputs": [
    {
     "data": {
      "text/html": [
       "<div>\n",
       "<style scoped>\n",
       "    .dataframe tbody tr th:only-of-type {\n",
       "        vertical-align: middle;\n",
       "    }\n",
       "\n",
       "    .dataframe tbody tr th {\n",
       "        vertical-align: top;\n",
       "    }\n",
       "\n",
       "    .dataframe thead th {\n",
       "        text-align: right;\n",
       "    }\n",
       "</style>\n",
       "<table border=\"1\" class=\"dataframe\">\n",
       "  <thead>\n",
       "    <tr style=\"text-align: right;\">\n",
       "      <th></th>\n",
       "      <th>id</th>\n",
       "      <th>minutes</th>\n",
       "      <th>contributor_id</th>\n",
       "      <th>n_steps</th>\n",
       "      <th>n_ingredients</th>\n",
       "    </tr>\n",
       "  </thead>\n",
       "  <tbody>\n",
       "    <tr>\n",
       "      <th>count</th>\n",
       "      <td>226657.000000</td>\n",
       "      <td>226657.000000</td>\n",
       "      <td>2.266570e+05</td>\n",
       "      <td>226657.000000</td>\n",
       "      <td>226657.000000</td>\n",
       "    </tr>\n",
       "    <tr>\n",
       "      <th>mean</th>\n",
       "      <td>226097.564368</td>\n",
       "      <td>58.117795</td>\n",
       "      <td>5.655471e+06</td>\n",
       "      <td>9.773927</td>\n",
       "      <td>9.054170</td>\n",
       "    </tr>\n",
       "    <tr>\n",
       "      <th>std</th>\n",
       "      <td>139802.640862</td>\n",
       "      <td>61.398187</td>\n",
       "      <td>1.008784e+08</td>\n",
       "      <td>5.999824</td>\n",
       "      <td>3.740942</td>\n",
       "    </tr>\n",
       "    <tr>\n",
       "      <th>min</th>\n",
       "      <td>38.000000</td>\n",
       "      <td>1.000000</td>\n",
       "      <td>2.700000e+01</td>\n",
       "      <td>0.000000</td>\n",
       "      <td>1.000000</td>\n",
       "    </tr>\n",
       "    <tr>\n",
       "      <th>25%</th>\n",
       "      <td>105707.000000</td>\n",
       "      <td>20.000000</td>\n",
       "      <td>5.810400e+04</td>\n",
       "      <td>6.000000</td>\n",
       "      <td>6.000000</td>\n",
       "    </tr>\n",
       "    <tr>\n",
       "      <th>50%</th>\n",
       "      <td>211971.000000</td>\n",
       "      <td>40.000000</td>\n",
       "      <td>1.807890e+05</td>\n",
       "      <td>9.000000</td>\n",
       "      <td>9.000000</td>\n",
       "    </tr>\n",
       "    <tr>\n",
       "      <th>75%</th>\n",
       "      <td>336737.000000</td>\n",
       "      <td>65.000000</td>\n",
       "      <td>4.091060e+05</td>\n",
       "      <td>12.000000</td>\n",
       "      <td>11.000000</td>\n",
       "    </tr>\n",
       "    <tr>\n",
       "      <th>max</th>\n",
       "      <td>537716.000000</td>\n",
       "      <td>255.000000</td>\n",
       "      <td>2.002290e+09</td>\n",
       "      <td>145.000000</td>\n",
       "      <td>43.000000</td>\n",
       "    </tr>\n",
       "  </tbody>\n",
       "</table>\n",
       "</div>"
      ],
      "text/plain": [
       "                  id        minutes  contributor_id        n_steps  \\\n",
       "count  226657.000000  226657.000000    2.266570e+05  226657.000000   \n",
       "mean   226097.564368      58.117795    5.655471e+06       9.773927   \n",
       "std    139802.640862      61.398187    1.008784e+08       5.999824   \n",
       "min        38.000000       1.000000    2.700000e+01       0.000000   \n",
       "25%    105707.000000      20.000000    5.810400e+04       6.000000   \n",
       "50%    211971.000000      40.000000    1.807890e+05       9.000000   \n",
       "75%    336737.000000      65.000000    4.091060e+05      12.000000   \n",
       "max    537716.000000     255.000000    2.002290e+09     145.000000   \n",
       "\n",
       "       n_ingredients  \n",
       "count  226657.000000  \n",
       "mean        9.054170  \n",
       "std         3.740942  \n",
       "min         1.000000  \n",
       "25%         6.000000  \n",
       "50%         9.000000  \n",
       "75%        11.000000  \n",
       "max        43.000000  "
      ]
     },
     "execution_count": 22,
     "metadata": {},
     "output_type": "execute_result"
    }
   ],
   "source": [
    "max_preparation_rows = recipe_df_cleaned['minutes'].quantile(0.95)\n",
    "recipe_df_cleaned['minutes'] = recipe_df_cleaned['minutes'].apply(lambda x: min(x, max_preparation_rows))\n",
    "\n",
    "recipe_df_cleaned.describe()"
   ]
  },
  {
   "cell_type": "markdown",
   "metadata": {},
   "source": [
    "Now the boxplot looks like this."
   ]
  },
  {
   "cell_type": "code",
   "execution_count": 23,
   "metadata": {},
   "outputs": [
    {
     "data": {
      "text/plain": [
       "<Axes: xlabel='minutes'>"
      ]
     },
     "execution_count": 23,
     "metadata": {},
     "output_type": "execute_result"
    },
    {
     "data": {
      "image/png": "[encoded data removed]",
      "text/plain": [
       "<Figure size 640x480 with 1 Axes>"
      ]
     },
     "metadata": {},
     "output_type": "display_data"
    }
   ],
   "source": [
    "sns.boxplot(x=recipe_df_cleaned['minutes'])"
   ]
  },
  {
   "cell_type": "markdown",
   "metadata": {},
   "source": [
    "Let's delete all rows which contains over per 95 n_steps."
   ]
  },
  {
   "cell_type": "code",
   "execution_count": 24,
   "metadata": {},
   "outputs": [
    {
     "data": {
      "text/html": [
       "<div>\n",
       "<style scoped>\n",
       "    .dataframe tbody tr th:only-of-type {\n",
       "        vertical-align: middle;\n",
       "    }\n",
       "\n",
       "    .dataframe tbody tr th {\n",
       "        vertical-align: top;\n",
       "    }\n",
       "\n",
       "    .dataframe thead th {\n",
       "        text-align: right;\n",
       "    }\n",
       "</style>\n",
       "<table border=\"1\" class=\"dataframe\">\n",
       "  <thead>\n",
       "    <tr style=\"text-align: right;\">\n",
       "      <th></th>\n",
       "      <th>id</th>\n",
       "      <th>minutes</th>\n",
       "      <th>contributor_id</th>\n",
       "      <th>n_steps</th>\n",
       "      <th>n_ingredients</th>\n",
       "    </tr>\n",
       "  </thead>\n",
       "  <tbody>\n",
       "    <tr>\n",
       "      <th>count</th>\n",
       "      <td>216820.000000</td>\n",
       "      <td>216820.000000</td>\n",
       "      <td>2.168200e+05</td>\n",
       "      <td>216820.000000</td>\n",
       "      <td>216820.000000</td>\n",
       "    </tr>\n",
       "    <tr>\n",
       "      <th>mean</th>\n",
       "      <td>224740.468564</td>\n",
       "      <td>56.282234</td>\n",
       "      <td>5.091130e+06</td>\n",
       "      <td>8.960137</td>\n",
       "      <td>8.880491</td>\n",
       "    </tr>\n",
       "    <tr>\n",
       "      <th>std</th>\n",
       "      <td>139376.741333</td>\n",
       "      <td>60.377591</td>\n",
       "      <td>9.531173e+07</td>\n",
       "      <td>4.461873</td>\n",
       "      <td>3.603747</td>\n",
       "    </tr>\n",
       "    <tr>\n",
       "      <th>min</th>\n",
       "      <td>38.000000</td>\n",
       "      <td>1.000000</td>\n",
       "      <td>2.700000e+01</td>\n",
       "      <td>0.000000</td>\n",
       "      <td>1.000000</td>\n",
       "    </tr>\n",
       "    <tr>\n",
       "      <th>25%</th>\n",
       "      <td>104641.500000</td>\n",
       "      <td>20.000000</td>\n",
       "      <td>5.810400e+04</td>\n",
       "      <td>6.000000</td>\n",
       "      <td>6.000000</td>\n",
       "    </tr>\n",
       "    <tr>\n",
       "      <th>50%</th>\n",
       "      <td>210605.000000</td>\n",
       "      <td>35.000000</td>\n",
       "      <td>1.784270e+05</td>\n",
       "      <td>8.000000</td>\n",
       "      <td>9.000000</td>\n",
       "    </tr>\n",
       "    <tr>\n",
       "      <th>75%</th>\n",
       "      <td>334797.500000</td>\n",
       "      <td>65.000000</td>\n",
       "      <td>4.073380e+05</td>\n",
       "      <td>12.000000</td>\n",
       "      <td>11.000000</td>\n",
       "    </tr>\n",
       "    <tr>\n",
       "      <th>max</th>\n",
       "      <td>537716.000000</td>\n",
       "      <td>255.000000</td>\n",
       "      <td>2.002290e+09</td>\n",
       "      <td>21.000000</td>\n",
       "      <td>43.000000</td>\n",
       "    </tr>\n",
       "  </tbody>\n",
       "</table>\n",
       "</div>"
      ],
      "text/plain": [
       "                  id        minutes  contributor_id        n_steps  \\\n",
       "count  216820.000000  216820.000000    2.168200e+05  216820.000000   \n",
       "mean   224740.468564      56.282234    5.091130e+06       8.960137   \n",
       "std    139376.741333      60.377591    9.531173e+07       4.461873   \n",
       "min        38.000000       1.000000    2.700000e+01       0.000000   \n",
       "25%    104641.500000      20.000000    5.810400e+04       6.000000   \n",
       "50%    210605.000000      35.000000    1.784270e+05       8.000000   \n",
       "75%    334797.500000      65.000000    4.073380e+05      12.000000   \n",
       "max    537716.000000     255.000000    2.002290e+09      21.000000   \n",
       "\n",
       "       n_ingredients  \n",
       "count  216820.000000  \n",
       "mean        8.880491  \n",
       "std         3.603747  \n",
       "min         1.000000  \n",
       "25%         6.000000  \n",
       "50%         9.000000  \n",
       "75%        11.000000  \n",
       "max        43.000000  "
      ]
     },
     "execution_count": 24,
     "metadata": {},
     "output_type": "execute_result"
    }
   ],
   "source": [
    "q95_n_steps = recipe_df_cleaned['n_steps'].quantile(0.95)\n",
    "filtered_df = recipe_df_cleaned[recipe_df_cleaned['n_steps'] > q95_n_steps]\n",
    "\n",
    "recipe_df_cleaned = recipe_df_cleaned.drop(filtered_df.index)\n",
    "\n",
    "recipe_df_cleaned.describe()"
   ]
  },
  {
   "cell_type": "markdown",
   "metadata": {},
   "source": [
    "#### Analyzing cathegoric columns"
   ]
  },
  {
   "cell_type": "markdown",
   "metadata": {},
   "source": [
    "Getting all columns that contain cathegorical data."
   ]
  },
  {
   "cell_type": "code",
   "execution_count": 25,
   "metadata": {},
   "outputs": [
    {
     "data": {
      "text/plain": [
       "Index(['name', 'submitted', 'tags', 'nutrition', 'steps', 'description',\n",
       "       'ingredients'],\n",
       "      dtype='object')"
      ]
     },
     "execution_count": 25,
     "metadata": {},
     "output_type": "execute_result"
    }
   ],
   "source": [
    "cathegorical_cols = recipe_df_cleaned.select_dtypes(include=['object', 'category']).columns\n",
    "cathegorical_cols"
   ]
  },
  {
   "cell_type": "code",
   "execution_count": 26,
   "metadata": {},
   "outputs": [
    {
     "data": {
      "text/html": [
       "<div>\n",
       "<style scoped>\n",
       "    .dataframe tbody tr th:only-of-type {\n",
       "        vertical-align: middle;\n",
       "    }\n",
       "\n",
       "    .dataframe tbody tr th {\n",
       "        vertical-align: top;\n",
       "    }\n",
       "\n",
       "    .dataframe thead th {\n",
       "        text-align: right;\n",
       "    }\n",
       "</style>\n",
       "<table border=\"1\" class=\"dataframe\">\n",
       "  <thead>\n",
       "    <tr style=\"text-align: right;\">\n",
       "      <th></th>\n",
       "      <th>name</th>\n",
       "      <th>submitted</th>\n",
       "      <th>tags</th>\n",
       "      <th>nutrition</th>\n",
       "      <th>steps</th>\n",
       "      <th>description</th>\n",
       "      <th>ingredients</th>\n",
       "    </tr>\n",
       "  </thead>\n",
       "  <tbody>\n",
       "    <tr>\n",
       "      <th>0</th>\n",
       "      <td>arriba   baked winter squash mexican style</td>\n",
       "      <td>2005-09-16</td>\n",
       "      <td>[60-minutes-or-less, time-to-make, course, mai...</td>\n",
       "      <td>[51.5, 0.0, 13.0, 0.0, 2.0, 0.0, 4.0]</td>\n",
       "      <td>['make a choice and proceed with recipe', 'dep...</td>\n",
       "      <td>autumn is my favorite time of year to cook! th...</td>\n",
       "      <td>['winter squash', 'mexican seasoning', 'mixed ...</td>\n",
       "    </tr>\n",
       "    <tr>\n",
       "      <th>1</th>\n",
       "      <td>a bit different  breakfast pizza</td>\n",
       "      <td>2002-06-17</td>\n",
       "      <td>[30-minutes-or-less, time-to-make, course, mai...</td>\n",
       "      <td>[173.4, 18.0, 0.0, 17.0, 22.0, 35.0, 1.0]</td>\n",
       "      <td>['preheat oven to 425 degrees f', 'press dough...</td>\n",
       "      <td>this recipe calls for the crust to be prebaked...</td>\n",
       "      <td>['prepared pizza crust', 'sausage patty', 'egg...</td>\n",
       "    </tr>\n",
       "    <tr>\n",
       "      <th>2</th>\n",
       "      <td>all in the kitchen  chili</td>\n",
       "      <td>2005-02-25</td>\n",
       "      <td>[time-to-make, course, preparation, main-dish,...</td>\n",
       "      <td>[269.8, 22.0, 32.0, 48.0, 39.0, 27.0, 5.0]</td>\n",
       "      <td>['brown ground beef in large pot', 'add choppe...</td>\n",
       "      <td>this modified version of 'mom's' chili was a h...</td>\n",
       "      <td>['ground beef', 'yellow onions', 'diced tomato...</td>\n",
       "    </tr>\n",
       "    <tr>\n",
       "      <th>3</th>\n",
       "      <td>alouette  potatoes</td>\n",
       "      <td>2003-04-14</td>\n",
       "      <td>[60-minutes-or-less, time-to-make, course, mai...</td>\n",
       "      <td>[368.1, 17.0, 10.0, 2.0, 14.0, 8.0, 20.0]</td>\n",
       "      <td>['place potatoes in a large pot of lightly sal...</td>\n",
       "      <td>this is a super easy, great tasting, make ahea...</td>\n",
       "      <td>['spreadable cheese with garlic and herbs', 'n...</td>\n",
       "    </tr>\n",
       "    <tr>\n",
       "      <th>4</th>\n",
       "      <td>amish  tomato ketchup  for canning</td>\n",
       "      <td>2002-10-25</td>\n",
       "      <td>[weeknight, time-to-make, course, main-ingredi...</td>\n",
       "      <td>[352.9, 1.0, 337.0, 23.0, 3.0, 0.0, 28.0]</td>\n",
       "      <td>['mix all ingredients&amp; boil for 2 1 / 2 hours ...</td>\n",
       "      <td>my dh's amish mother raised him on this recipe...</td>\n",
       "      <td>['tomato juice', 'apple cider vinegar', 'sugar...</td>\n",
       "    </tr>\n",
       "  </tbody>\n",
       "</table>\n",
       "</div>"
      ],
      "text/plain": [
       "                                         name   submitted  \\\n",
       "0  arriba   baked winter squash mexican style  2005-09-16   \n",
       "1            a bit different  breakfast pizza  2002-06-17   \n",
       "2                   all in the kitchen  chili  2005-02-25   \n",
       "3                          alouette  potatoes  2003-04-14   \n",
       "4          amish  tomato ketchup  for canning  2002-10-25   \n",
       "\n",
       "                                                tags  \\\n",
       "0  [60-minutes-or-less, time-to-make, course, mai...   \n",
       "1  [30-minutes-or-less, time-to-make, course, mai...   \n",
       "2  [time-to-make, course, preparation, main-dish,...   \n",
       "3  [60-minutes-or-less, time-to-make, course, mai...   \n",
       "4  [weeknight, time-to-make, course, main-ingredi...   \n",
       "\n",
       "                                    nutrition  \\\n",
       "0       [51.5, 0.0, 13.0, 0.0, 2.0, 0.0, 4.0]   \n",
       "1   [173.4, 18.0, 0.0, 17.0, 22.0, 35.0, 1.0]   \n",
       "2  [269.8, 22.0, 32.0, 48.0, 39.0, 27.0, 5.0]   \n",
       "3   [368.1, 17.0, 10.0, 2.0, 14.0, 8.0, 20.0]   \n",
       "4   [352.9, 1.0, 337.0, 23.0, 3.0, 0.0, 28.0]   \n",
       "\n",
       "                                               steps  \\\n",
       "0  ['make a choice and proceed with recipe', 'dep...   \n",
       "1  ['preheat oven to 425 degrees f', 'press dough...   \n",
       "2  ['brown ground beef in large pot', 'add choppe...   \n",
       "3  ['place potatoes in a large pot of lightly sal...   \n",
       "4  ['mix all ingredients& boil for 2 1 / 2 hours ...   \n",
       "\n",
       "                                         description  \\\n",
       "0  autumn is my favorite time of year to cook! th...   \n",
       "1  this recipe calls for the crust to be prebaked...   \n",
       "2  this modified version of 'mom's' chili was a h...   \n",
       "3  this is a super easy, great tasting, make ahea...   \n",
       "4  my dh's amish mother raised him on this recipe...   \n",
       "\n",
       "                                         ingredients  \n",
       "0  ['winter squash', 'mexican seasoning', 'mixed ...  \n",
       "1  ['prepared pizza crust', 'sausage patty', 'egg...  \n",
       "2  ['ground beef', 'yellow onions', 'diced tomato...  \n",
       "3  ['spreadable cheese with garlic and herbs', 'n...  \n",
       "4  ['tomato juice', 'apple cider vinegar', 'sugar...  "
      ]
     },
     "execution_count": 26,
     "metadata": {},
     "output_type": "execute_result"
    }
   ],
   "source": [
    "recipe_df_cleaned[cathegorical_cols].head()"
   ]
  },
  {
   "cell_type": "markdown",
   "metadata": {},
   "source": [
    "Splitting nutrition into several columns: [calories (#), total fat (PDV), sugar (PDV) , sodium (PDV) , protein (PDV) , saturated fat (PDV) , and carbohydrates (PDV)]."
   ]
  },
  {
   "cell_type": "code",
   "execution_count": 27,
   "metadata": {},
   "outputs": [],
   "source": [
    "recipe_df_cleaned['nutrition'] = recipe_df_cleaned['nutrition'].apply(ast.literal_eval)\n",
    "recipe_df_cleaned['nutrition'] = recipe_df_cleaned['nutrition'].apply(lambda x: [float(i) for i in x])"
   ]
  },
  {
   "cell_type": "code",
   "execution_count": 28,
   "metadata": {},
   "outputs": [],
   "source": [
    "nutrition_col_names = ['calories (#)', 'total fat (PDV)', 'sugar (PDV)', 'sodium (PDV)', 'protein (PDV)', 'saturated fat (PDV)', 'carbohydrates (PDV)']"
   ]
  },
  {
   "cell_type": "code",
   "execution_count": 29,
   "metadata": {},
   "outputs": [
    {
     "data": {
      "text/html": [
       "<div>\n",
       "<style scoped>\n",
       "    .dataframe tbody tr th:only-of-type {\n",
       "        vertical-align: middle;\n",
       "    }\n",
       "\n",
       "    .dataframe tbody tr th {\n",
       "        vertical-align: top;\n",
       "    }\n",
       "\n",
       "    .dataframe thead th {\n",
       "        text-align: right;\n",
       "    }\n",
       "</style>\n",
       "<table border=\"1\" class=\"dataframe\">\n",
       "  <thead>\n",
       "    <tr style=\"text-align: right;\">\n",
       "      <th></th>\n",
       "      <th>name</th>\n",
       "      <th>id</th>\n",
       "      <th>minutes</th>\n",
       "      <th>contributor_id</th>\n",
       "      <th>submitted</th>\n",
       "      <th>tags</th>\n",
       "      <th>n_steps</th>\n",
       "      <th>steps</th>\n",
       "      <th>description</th>\n",
       "      <th>ingredients</th>\n",
       "      <th>n_ingredients</th>\n",
       "      <th>calories (#)</th>\n",
       "      <th>total fat (PDV)</th>\n",
       "      <th>sugar (PDV)</th>\n",
       "      <th>sodium (PDV)</th>\n",
       "      <th>protein (PDV)</th>\n",
       "      <th>saturated fat (PDV)</th>\n",
       "      <th>carbohydrates (PDV)</th>\n",
       "    </tr>\n",
       "  </thead>\n",
       "  <tbody>\n",
       "    <tr>\n",
       "      <th>0</th>\n",
       "      <td>arriba   baked winter squash mexican style</td>\n",
       "      <td>137739</td>\n",
       "      <td>55.0</td>\n",
       "      <td>47892</td>\n",
       "      <td>2005-09-16</td>\n",
       "      <td>[60-minutes-or-less, time-to-make, course, mai...</td>\n",
       "      <td>11</td>\n",
       "      <td>['make a choice and proceed with recipe', 'dep...</td>\n",
       "      <td>autumn is my favorite time of year to cook! th...</td>\n",
       "      <td>['winter squash', 'mexican seasoning', 'mixed ...</td>\n",
       "      <td>7</td>\n",
       "      <td>51.5</td>\n",
       "      <td>0.0</td>\n",
       "      <td>13.0</td>\n",
       "      <td>0.0</td>\n",
       "      <td>2.0</td>\n",
       "      <td>0.0</td>\n",
       "      <td>4.0</td>\n",
       "    </tr>\n",
       "    <tr>\n",
       "      <th>1</th>\n",
       "      <td>a bit different  breakfast pizza</td>\n",
       "      <td>31490</td>\n",
       "      <td>30.0</td>\n",
       "      <td>26278</td>\n",
       "      <td>2002-06-17</td>\n",
       "      <td>[30-minutes-or-less, time-to-make, course, mai...</td>\n",
       "      <td>9</td>\n",
       "      <td>['preheat oven to 425 degrees f', 'press dough...</td>\n",
       "      <td>this recipe calls for the crust to be prebaked...</td>\n",
       "      <td>['prepared pizza crust', 'sausage patty', 'egg...</td>\n",
       "      <td>6</td>\n",
       "      <td>173.4</td>\n",
       "      <td>18.0</td>\n",
       "      <td>0.0</td>\n",
       "      <td>17.0</td>\n",
       "      <td>22.0</td>\n",
       "      <td>35.0</td>\n",
       "      <td>1.0</td>\n",
       "    </tr>\n",
       "    <tr>\n",
       "      <th>2</th>\n",
       "      <td>all in the kitchen  chili</td>\n",
       "      <td>112140</td>\n",
       "      <td>130.0</td>\n",
       "      <td>196586</td>\n",
       "      <td>2005-02-25</td>\n",
       "      <td>[time-to-make, course, preparation, main-dish,...</td>\n",
       "      <td>6</td>\n",
       "      <td>['brown ground beef in large pot', 'add choppe...</td>\n",
       "      <td>this modified version of 'mom's' chili was a h...</td>\n",
       "      <td>['ground beef', 'yellow onions', 'diced tomato...</td>\n",
       "      <td>13</td>\n",
       "      <td>269.8</td>\n",
       "      <td>22.0</td>\n",
       "      <td>32.0</td>\n",
       "      <td>48.0</td>\n",
       "      <td>39.0</td>\n",
       "      <td>27.0</td>\n",
       "      <td>5.0</td>\n",
       "    </tr>\n",
       "    <tr>\n",
       "      <th>3</th>\n",
       "      <td>alouette  potatoes</td>\n",
       "      <td>59389</td>\n",
       "      <td>45.0</td>\n",
       "      <td>68585</td>\n",
       "      <td>2003-04-14</td>\n",
       "      <td>[60-minutes-or-less, time-to-make, course, mai...</td>\n",
       "      <td>11</td>\n",
       "      <td>['place potatoes in a large pot of lightly sal...</td>\n",
       "      <td>this is a super easy, great tasting, make ahea...</td>\n",
       "      <td>['spreadable cheese with garlic and herbs', 'n...</td>\n",
       "      <td>11</td>\n",
       "      <td>368.1</td>\n",
       "      <td>17.0</td>\n",
       "      <td>10.0</td>\n",
       "      <td>2.0</td>\n",
       "      <td>14.0</td>\n",
       "      <td>8.0</td>\n",
       "      <td>20.0</td>\n",
       "    </tr>\n",
       "    <tr>\n",
       "      <th>4</th>\n",
       "      <td>amish  tomato ketchup  for canning</td>\n",
       "      <td>44061</td>\n",
       "      <td>190.0</td>\n",
       "      <td>41706</td>\n",
       "      <td>2002-10-25</td>\n",
       "      <td>[weeknight, time-to-make, course, main-ingredi...</td>\n",
       "      <td>5</td>\n",
       "      <td>['mix all ingredients&amp; boil for 2 1 / 2 hours ...</td>\n",
       "      <td>my dh's amish mother raised him on this recipe...</td>\n",
       "      <td>['tomato juice', 'apple cider vinegar', 'sugar...</td>\n",
       "      <td>8</td>\n",
       "      <td>352.9</td>\n",
       "      <td>1.0</td>\n",
       "      <td>337.0</td>\n",
       "      <td>23.0</td>\n",
       "      <td>3.0</td>\n",
       "      <td>0.0</td>\n",
       "      <td>28.0</td>\n",
       "    </tr>\n",
       "  </tbody>\n",
       "</table>\n",
       "</div>"
      ],
      "text/plain": [
       "                                         name      id  minutes  \\\n",
       "0  arriba   baked winter squash mexican style  137739     55.0   \n",
       "1            a bit different  breakfast pizza   31490     30.0   \n",
       "2                   all in the kitchen  chili  112140    130.0   \n",
       "3                          alouette  potatoes   59389     45.0   \n",
       "4          amish  tomato ketchup  for canning   44061    190.0   \n",
       "\n",
       "   contributor_id   submitted  \\\n",
       "0           47892  2005-09-16   \n",
       "1           26278  2002-06-17   \n",
       "2          196586  2005-02-25   \n",
       "3           68585  2003-04-14   \n",
       "4           41706  2002-10-25   \n",
       "\n",
       "                                                tags  n_steps  \\\n",
       "0  [60-minutes-or-less, time-to-make, course, mai...       11   \n",
       "1  [30-minutes-or-less, time-to-make, course, mai...        9   \n",
       "2  [time-to-make, course, preparation, main-dish,...        6   \n",
       "3  [60-minutes-or-less, time-to-make, course, mai...       11   \n",
       "4  [weeknight, time-to-make, course, main-ingredi...        5   \n",
       "\n",
       "                                               steps  \\\n",
       "0  ['make a choice and proceed with recipe', 'dep...   \n",
       "1  ['preheat oven to 425 degrees f', 'press dough...   \n",
       "2  ['brown ground beef in large pot', 'add choppe...   \n",
       "3  ['place potatoes in a large pot of lightly sal...   \n",
       "4  ['mix all ingredients& boil for 2 1 / 2 hours ...   \n",
       "\n",
       "                                         description  \\\n",
       "0  autumn is my favorite time of year to cook! th...   \n",
       "1  this recipe calls for the crust to be prebaked...   \n",
       "2  this modified version of 'mom's' chili was a h...   \n",
       "3  this is a super easy, great tasting, make ahea...   \n",
       "4  my dh's amish mother raised him on this recipe...   \n",
       "\n",
       "                                         ingredients  n_ingredients  \\\n",
       "0  ['winter squash', 'mexican seasoning', 'mixed ...              7   \n",
       "1  ['prepared pizza crust', 'sausage patty', 'egg...              6   \n",
       "2  ['ground beef', 'yellow onions', 'diced tomato...             13   \n",
       "3  ['spreadable cheese with garlic and herbs', 'n...             11   \n",
       "4  ['tomato juice', 'apple cider vinegar', 'sugar...              8   \n",
       "\n",
       "   calories (#)  total fat (PDV)  sugar (PDV)  sodium (PDV)  protein (PDV)  \\\n",
       "0          51.5              0.0         13.0           0.0            2.0   \n",
       "1         173.4             18.0          0.0          17.0           22.0   \n",
       "2         269.8             22.0         32.0          48.0           39.0   \n",
       "3         368.1             17.0         10.0           2.0           14.0   \n",
       "4         352.9              1.0        337.0          23.0            3.0   \n",
       "\n",
       "   saturated fat (PDV)  carbohydrates (PDV)  \n",
       "0                  0.0                  4.0  \n",
       "1                 35.0                  1.0  \n",
       "2                 27.0                  5.0  \n",
       "3                  8.0                 20.0  \n",
       "4                  0.0                 28.0  "
      ]
     },
     "execution_count": 29,
     "metadata": {},
     "output_type": "execute_result"
    }
   ],
   "source": [
    "nutrition_df = recipe_df_cleaned['nutrition'].apply(pd.Series)\n",
    "nutrition_df.columns = nutrition_col_names\n",
    "\n",
    "recipe_df_cleaned = pd.concat([recipe_df_cleaned, nutrition_df], axis=1)\n",
    "\n",
    "recipe_df_cleaned = recipe_df_cleaned.drop(columns=['nutrition'])\n",
    "\n",
    "recipe_df_cleaned.head()"
   ]
  },
  {
   "cell_type": "code",
   "execution_count": 30,
   "metadata": {},
   "outputs": [
    {
     "data": {
      "text/html": [
       "<div>\n",
       "<style scoped>\n",
       "    .dataframe tbody tr th:only-of-type {\n",
       "        vertical-align: middle;\n",
       "    }\n",
       "\n",
       "    .dataframe tbody tr th {\n",
       "        vertical-align: top;\n",
       "    }\n",
       "\n",
       "    .dataframe thead th {\n",
       "        text-align: right;\n",
       "    }\n",
       "</style>\n",
       "<table border=\"1\" class=\"dataframe\">\n",
       "  <thead>\n",
       "    <tr style=\"text-align: right;\">\n",
       "      <th></th>\n",
       "      <th>id</th>\n",
       "      <th>minutes</th>\n",
       "      <th>contributor_id</th>\n",
       "      <th>n_steps</th>\n",
       "      <th>n_ingredients</th>\n",
       "      <th>calories (#)</th>\n",
       "      <th>total fat (PDV)</th>\n",
       "      <th>sugar (PDV)</th>\n",
       "      <th>sodium (PDV)</th>\n",
       "      <th>protein (PDV)</th>\n",
       "      <th>saturated fat (PDV)</th>\n",
       "      <th>carbohydrates (PDV)</th>\n",
       "    </tr>\n",
       "  </thead>\n",
       "  <tbody>\n",
       "    <tr>\n",
       "      <th>count</th>\n",
       "      <td>216820.000000</td>\n",
       "      <td>216820.000000</td>\n",
       "      <td>2.168200e+05</td>\n",
       "      <td>216820.000000</td>\n",
       "      <td>216820.000000</td>\n",
       "      <td>216820.000000</td>\n",
       "      <td>216820.000000</td>\n",
       "      <td>216820.000000</td>\n",
       "      <td>216820.000000</td>\n",
       "      <td>216820.000000</td>\n",
       "      <td>216820.000000</td>\n",
       "      <td>216820.000000</td>\n",
       "    </tr>\n",
       "    <tr>\n",
       "      <th>mean</th>\n",
       "      <td>224740.468564</td>\n",
       "      <td>56.282234</td>\n",
       "      <td>5.091130e+06</td>\n",
       "      <td>8.960137</td>\n",
       "      <td>8.880491</td>\n",
       "      <td>460.646998</td>\n",
       "      <td>35.041564</td>\n",
       "      <td>81.577682</td>\n",
       "      <td>29.633489</td>\n",
       "      <td>33.973526</td>\n",
       "      <td>43.987100</td>\n",
       "      <td>15.067208</td>\n",
       "    </tr>\n",
       "    <tr>\n",
       "      <th>std</th>\n",
       "      <td>139376.741333</td>\n",
       "      <td>60.377591</td>\n",
       "      <td>9.531173e+07</td>\n",
       "      <td>4.461873</td>\n",
       "      <td>3.603747</td>\n",
       "      <td>1194.768895</td>\n",
       "      <td>76.532201</td>\n",
       "      <td>818.232971</td>\n",
       "      <td>131.785400</td>\n",
       "      <td>57.041027</td>\n",
       "      <td>94.136223</td>\n",
       "      <td>83.432255</td>\n",
       "    </tr>\n",
       "    <tr>\n",
       "      <th>min</th>\n",
       "      <td>38.000000</td>\n",
       "      <td>1.000000</td>\n",
       "      <td>2.700000e+01</td>\n",
       "      <td>0.000000</td>\n",
       "      <td>1.000000</td>\n",
       "      <td>0.000000</td>\n",
       "      <td>0.000000</td>\n",
       "      <td>0.000000</td>\n",
       "      <td>0.000000</td>\n",
       "      <td>0.000000</td>\n",
       "      <td>0.000000</td>\n",
       "      <td>0.000000</td>\n",
       "    </tr>\n",
       "    <tr>\n",
       "      <th>25%</th>\n",
       "      <td>104641.500000</td>\n",
       "      <td>20.000000</td>\n",
       "      <td>5.810400e+04</td>\n",
       "      <td>6.000000</td>\n",
       "      <td>6.000000</td>\n",
       "      <td>171.700000</td>\n",
       "      <td>8.000000</td>\n",
       "      <td>9.000000</td>\n",
       "      <td>5.000000</td>\n",
       "      <td>6.000000</td>\n",
       "      <td>7.000000</td>\n",
       "      <td>4.000000</td>\n",
       "    </tr>\n",
       "    <tr>\n",
       "      <th>50%</th>\n",
       "      <td>210605.000000</td>\n",
       "      <td>35.000000</td>\n",
       "      <td>1.784270e+05</td>\n",
       "      <td>8.000000</td>\n",
       "      <td>9.000000</td>\n",
       "      <td>307.800000</td>\n",
       "      <td>20.000000</td>\n",
       "      <td>24.000000</td>\n",
       "      <td>14.000000</td>\n",
       "      <td>18.000000</td>\n",
       "      <td>22.000000</td>\n",
       "      <td>9.000000</td>\n",
       "    </tr>\n",
       "    <tr>\n",
       "      <th>75%</th>\n",
       "      <td>334797.500000</td>\n",
       "      <td>65.000000</td>\n",
       "      <td>4.073380e+05</td>\n",
       "      <td>12.000000</td>\n",
       "      <td>11.000000</td>\n",
       "      <td>509.200000</td>\n",
       "      <td>40.000000</td>\n",
       "      <td>66.000000</td>\n",
       "      <td>32.000000</td>\n",
       "      <td>50.000000</td>\n",
       "      <td>51.000000</td>\n",
       "      <td>16.000000</td>\n",
       "    </tr>\n",
       "    <tr>\n",
       "      <th>max</th>\n",
       "      <td>537716.000000</td>\n",
       "      <td>255.000000</td>\n",
       "      <td>2.002290e+09</td>\n",
       "      <td>21.000000</td>\n",
       "      <td>43.000000</td>\n",
       "      <td>434360.200000</td>\n",
       "      <td>17183.000000</td>\n",
       "      <td>362729.000000</td>\n",
       "      <td>29338.000000</td>\n",
       "      <td>6552.000000</td>\n",
       "      <td>10395.000000</td>\n",
       "      <td>36098.000000</td>\n",
       "    </tr>\n",
       "  </tbody>\n",
       "</table>\n",
       "</div>"
      ],
      "text/plain": [
       "                  id        minutes  contributor_id        n_steps  \\\n",
       "count  216820.000000  216820.000000    2.168200e+05  216820.000000   \n",
       "mean   224740.468564      56.282234    5.091130e+06       8.960137   \n",
       "std    139376.741333      60.377591    9.531173e+07       4.461873   \n",
       "min        38.000000       1.000000    2.700000e+01       0.000000   \n",
       "25%    104641.500000      20.000000    5.810400e+04       6.000000   \n",
       "50%    210605.000000      35.000000    1.784270e+05       8.000000   \n",
       "75%    334797.500000      65.000000    4.073380e+05      12.000000   \n",
       "max    537716.000000     255.000000    2.002290e+09      21.000000   \n",
       "\n",
       "       n_ingredients   calories (#)  total fat (PDV)    sugar (PDV)  \\\n",
       "count  216820.000000  216820.000000    216820.000000  216820.000000   \n",
       "mean        8.880491     460.646998        35.041564      81.577682   \n",
       "std         3.603747    1194.768895        76.532201     818.232971   \n",
       "min         1.000000       0.000000         0.000000       0.000000   \n",
       "25%         6.000000     171.700000         8.000000       9.000000   \n",
       "50%         9.000000     307.800000        20.000000      24.000000   \n",
       "75%        11.000000     509.200000        40.000000      66.000000   \n",
       "max        43.000000  434360.200000     17183.000000  362729.000000   \n",
       "\n",
       "        sodium (PDV)  protein (PDV)  saturated fat (PDV)  carbohydrates (PDV)  \n",
       "count  216820.000000  216820.000000        216820.000000        216820.000000  \n",
       "mean       29.633489      33.973526            43.987100            15.067208  \n",
       "std       131.785400      57.041027            94.136223            83.432255  \n",
       "min         0.000000       0.000000             0.000000             0.000000  \n",
       "25%         5.000000       6.000000             7.000000             4.000000  \n",
       "50%        14.000000      18.000000            22.000000             9.000000  \n",
       "75%        32.000000      50.000000            51.000000            16.000000  \n",
       "max     29338.000000    6552.000000         10395.000000         36098.000000  "
      ]
     },
     "execution_count": 30,
     "metadata": {},
     "output_type": "execute_result"
    }
   ],
   "source": [
    "recipe_df_cleaned.describe()"
   ]
  },
  {
   "cell_type": "code",
   "execution_count": 31,
   "metadata": {},
   "outputs": [],
   "source": [
    "percentiles_95 = recipe_df_cleaned[nutrition_col_names].quantile(0.95)"
   ]
  },
  {
   "cell_type": "code",
   "execution_count": 32,
   "metadata": {},
   "outputs": [
    {
     "data": {
      "text/plain": [
       "{'calories (#)': 10840,\n",
       " 'total fat (PDV)': 10798,\n",
       " 'sugar (PDV)': 10822,\n",
       " 'sodium (PDV)': 10829,\n",
       " 'protein (PDV)': 10739,\n",
       " 'saturated fat (PDV)': 10797,\n",
       " 'carbohydrates (PDV)': 10663}"
      ]
     },
     "execution_count": 32,
     "metadata": {},
     "output_type": "execute_result"
    }
   ],
   "source": [
    "outliers_count = {}\n",
    "\n",
    "for col in nutrition_col_names:\n",
    "    outliers_count[col] = (recipe_df_cleaned[col] > percentiles_95[col]).sum()\n",
    "\n",
    "outliers_count"
   ]
  },
  {
   "cell_type": "code",
   "execution_count": 33,
   "metadata": {},
   "outputs": [
    {
     "data": {
      "text/html": [
       "<div>\n",
       "<style scoped>\n",
       "    .dataframe tbody tr th:only-of-type {\n",
       "        vertical-align: middle;\n",
       "    }\n",
       "\n",
       "    .dataframe tbody tr th {\n",
       "        vertical-align: top;\n",
       "    }\n",
       "\n",
       "    .dataframe thead th {\n",
       "        text-align: right;\n",
       "    }\n",
       "</style>\n",
       "<table border=\"1\" class=\"dataframe\">\n",
       "  <thead>\n",
       "    <tr style=\"text-align: right;\">\n",
       "      <th></th>\n",
       "      <th>name</th>\n",
       "      <th>id</th>\n",
       "      <th>minutes</th>\n",
       "      <th>contributor_id</th>\n",
       "      <th>submitted</th>\n",
       "      <th>tags</th>\n",
       "      <th>n_steps</th>\n",
       "      <th>steps</th>\n",
       "      <th>description</th>\n",
       "      <th>ingredients</th>\n",
       "      <th>n_ingredients</th>\n",
       "      <th>calories (#)</th>\n",
       "      <th>total fat (PDV)</th>\n",
       "      <th>sugar (PDV)</th>\n",
       "      <th>sodium (PDV)</th>\n",
       "      <th>protein (PDV)</th>\n",
       "      <th>saturated fat (PDV)</th>\n",
       "      <th>carbohydrates (PDV)</th>\n",
       "    </tr>\n",
       "  </thead>\n",
       "  <tbody>\n",
       "    <tr>\n",
       "      <th>0</th>\n",
       "      <td>arriba   baked winter squash mexican style</td>\n",
       "      <td>137739</td>\n",
       "      <td>55.0</td>\n",
       "      <td>47892</td>\n",
       "      <td>2005-09-16</td>\n",
       "      <td>[60-minutes-or-less, time-to-make, course, mai...</td>\n",
       "      <td>11</td>\n",
       "      <td>['make a choice and proceed with recipe', 'dep...</td>\n",
       "      <td>autumn is my favorite time of year to cook! th...</td>\n",
       "      <td>['winter squash', 'mexican seasoning', 'mixed ...</td>\n",
       "      <td>7</td>\n",
       "      <td>51.5</td>\n",
       "      <td>0.0</td>\n",
       "      <td>13.0</td>\n",
       "      <td>0.0</td>\n",
       "      <td>2.0</td>\n",
       "      <td>0.0</td>\n",
       "      <td>4.0</td>\n",
       "    </tr>\n",
       "    <tr>\n",
       "      <th>1</th>\n",
       "      <td>a bit different  breakfast pizza</td>\n",
       "      <td>31490</td>\n",
       "      <td>30.0</td>\n",
       "      <td>26278</td>\n",
       "      <td>2002-06-17</td>\n",
       "      <td>[30-minutes-or-less, time-to-make, course, mai...</td>\n",
       "      <td>9</td>\n",
       "      <td>['preheat oven to 425 degrees f', 'press dough...</td>\n",
       "      <td>this recipe calls for the crust to be prebaked...</td>\n",
       "      <td>['prepared pizza crust', 'sausage patty', 'egg...</td>\n",
       "      <td>6</td>\n",
       "      <td>173.4</td>\n",
       "      <td>18.0</td>\n",
       "      <td>0.0</td>\n",
       "      <td>17.0</td>\n",
       "      <td>22.0</td>\n",
       "      <td>35.0</td>\n",
       "      <td>1.0</td>\n",
       "    </tr>\n",
       "    <tr>\n",
       "      <th>2</th>\n",
       "      <td>all in the kitchen  chili</td>\n",
       "      <td>112140</td>\n",
       "      <td>130.0</td>\n",
       "      <td>196586</td>\n",
       "      <td>2005-02-25</td>\n",
       "      <td>[time-to-make, course, preparation, main-dish,...</td>\n",
       "      <td>6</td>\n",
       "      <td>['brown ground beef in large pot', 'add choppe...</td>\n",
       "      <td>this modified version of 'mom's' chili was a h...</td>\n",
       "      <td>['ground beef', 'yellow onions', 'diced tomato...</td>\n",
       "      <td>13</td>\n",
       "      <td>269.8</td>\n",
       "      <td>22.0</td>\n",
       "      <td>32.0</td>\n",
       "      <td>48.0</td>\n",
       "      <td>39.0</td>\n",
       "      <td>27.0</td>\n",
       "      <td>5.0</td>\n",
       "    </tr>\n",
       "    <tr>\n",
       "      <th>3</th>\n",
       "      <td>alouette  potatoes</td>\n",
       "      <td>59389</td>\n",
       "      <td>45.0</td>\n",
       "      <td>68585</td>\n",
       "      <td>2003-04-14</td>\n",
       "      <td>[60-minutes-or-less, time-to-make, course, mai...</td>\n",
       "      <td>11</td>\n",
       "      <td>['place potatoes in a large pot of lightly sal...</td>\n",
       "      <td>this is a super easy, great tasting, make ahea...</td>\n",
       "      <td>['spreadable cheese with garlic and herbs', 'n...</td>\n",
       "      <td>11</td>\n",
       "      <td>368.1</td>\n",
       "      <td>17.0</td>\n",
       "      <td>10.0</td>\n",
       "      <td>2.0</td>\n",
       "      <td>14.0</td>\n",
       "      <td>8.0</td>\n",
       "      <td>20.0</td>\n",
       "    </tr>\n",
       "    <tr>\n",
       "      <th>6</th>\n",
       "      <td>aww  marinated olives</td>\n",
       "      <td>25274</td>\n",
       "      <td>15.0</td>\n",
       "      <td>21730</td>\n",
       "      <td>2002-04-14</td>\n",
       "      <td>[15-minutes-or-less, time-to-make, course, mai...</td>\n",
       "      <td>4</td>\n",
       "      <td>['toast the fennel seeds and lightly crush the...</td>\n",
       "      <td>my italian mil was thoroughly impressed by my ...</td>\n",
       "      <td>['fennel seeds', 'green olives', 'ripe olives'...</td>\n",
       "      <td>9</td>\n",
       "      <td>380.7</td>\n",
       "      <td>53.0</td>\n",
       "      <td>7.0</td>\n",
       "      <td>24.0</td>\n",
       "      <td>6.0</td>\n",
       "      <td>24.0</td>\n",
       "      <td>6.0</td>\n",
       "    </tr>\n",
       "  </tbody>\n",
       "</table>\n",
       "</div>"
      ],
      "text/plain": [
       "                                         name      id  minutes  \\\n",
       "0  arriba   baked winter squash mexican style  137739     55.0   \n",
       "1            a bit different  breakfast pizza   31490     30.0   \n",
       "2                   all in the kitchen  chili  112140    130.0   \n",
       "3                          alouette  potatoes   59389     45.0   \n",
       "6                       aww  marinated olives   25274     15.0   \n",
       "\n",
       "   contributor_id   submitted  \\\n",
       "0           47892  2005-09-16   \n",
       "1           26278  2002-06-17   \n",
       "2          196586  2005-02-25   \n",
       "3           68585  2003-04-14   \n",
       "6           21730  2002-04-14   \n",
       "\n",
       "                                                tags  n_steps  \\\n",
       "0  [60-minutes-or-less, time-to-make, course, mai...       11   \n",
       "1  [30-minutes-or-less, time-to-make, course, mai...        9   \n",
       "2  [time-to-make, course, preparation, main-dish,...        6   \n",
       "3  [60-minutes-or-less, time-to-make, course, mai...       11   \n",
       "6  [15-minutes-or-less, time-to-make, course, mai...        4   \n",
       "\n",
       "                                               steps  \\\n",
       "0  ['make a choice and proceed with recipe', 'dep...   \n",
       "1  ['preheat oven to 425 degrees f', 'press dough...   \n",
       "2  ['brown ground beef in large pot', 'add choppe...   \n",
       "3  ['place potatoes in a large pot of lightly sal...   \n",
       "6  ['toast the fennel seeds and lightly crush the...   \n",
       "\n",
       "                                         description  \\\n",
       "0  autumn is my favorite time of year to cook! th...   \n",
       "1  this recipe calls for the crust to be prebaked...   \n",
       "2  this modified version of 'mom's' chili was a h...   \n",
       "3  this is a super easy, great tasting, make ahea...   \n",
       "6  my italian mil was thoroughly impressed by my ...   \n",
       "\n",
       "                                         ingredients  n_ingredients  \\\n",
       "0  ['winter squash', 'mexican seasoning', 'mixed ...              7   \n",
       "1  ['prepared pizza crust', 'sausage patty', 'egg...              6   \n",
       "2  ['ground beef', 'yellow onions', 'diced tomato...             13   \n",
       "3  ['spreadable cheese with garlic and herbs', 'n...             11   \n",
       "6  ['fennel seeds', 'green olives', 'ripe olives'...              9   \n",
       "\n",
       "   calories (#)  total fat (PDV)  sugar (PDV)  sodium (PDV)  protein (PDV)  \\\n",
       "0          51.5              0.0         13.0           0.0            2.0   \n",
       "1         173.4             18.0          0.0          17.0           22.0   \n",
       "2         269.8             22.0         32.0          48.0           39.0   \n",
       "3         368.1             17.0         10.0           2.0           14.0   \n",
       "6         380.7             53.0          7.0          24.0            6.0   \n",
       "\n",
       "   saturated fat (PDV)  carbohydrates (PDV)  \n",
       "0                  0.0                  4.0  \n",
       "1                 35.0                  1.0  \n",
       "2                 27.0                  5.0  \n",
       "3                  8.0                 20.0  \n",
       "6                 24.0                  6.0  "
      ]
     },
     "execution_count": 33,
     "metadata": {},
     "output_type": "execute_result"
    }
   ],
   "source": [
    "outliers_df = recipe_df_cleaned[(recipe_df_cleaned[nutrition_col_names] > percentiles_95).any(axis=1)]\n",
    "\n",
    "recipe_df_cleaned = recipe_df_cleaned.drop(outliers_df.index)\n",
    "\n",
    "recipe_df_cleaned.head()"
   ]
  },
  {
   "cell_type": "code",
   "execution_count": 34,
   "metadata": {},
   "outputs": [
    {
     "data": {
      "text/html": [
       "<div>\n",
       "<style scoped>\n",
       "    .dataframe tbody tr th:only-of-type {\n",
       "        vertical-align: middle;\n",
       "    }\n",
       "\n",
       "    .dataframe tbody tr th {\n",
       "        vertical-align: top;\n",
       "    }\n",
       "\n",
       "    .dataframe thead th {\n",
       "        text-align: right;\n",
       "    }\n",
       "</style>\n",
       "<table border=\"1\" class=\"dataframe\">\n",
       "  <thead>\n",
       "    <tr style=\"text-align: right;\">\n",
       "      <th></th>\n",
       "      <th>id</th>\n",
       "      <th>minutes</th>\n",
       "      <th>contributor_id</th>\n",
       "      <th>n_steps</th>\n",
       "      <th>n_ingredients</th>\n",
       "      <th>calories (#)</th>\n",
       "      <th>total fat (PDV)</th>\n",
       "      <th>sugar (PDV)</th>\n",
       "      <th>sodium (PDV)</th>\n",
       "      <th>protein (PDV)</th>\n",
       "      <th>saturated fat (PDV)</th>\n",
       "      <th>carbohydrates (PDV)</th>\n",
       "    </tr>\n",
       "  </thead>\n",
       "  <tbody>\n",
       "    <tr>\n",
       "      <th>count</th>\n",
       "      <td>185429.000000</td>\n",
       "      <td>185429.000000</td>\n",
       "      <td>1.854290e+05</td>\n",
       "      <td>185429.000000</td>\n",
       "      <td>185429.000000</td>\n",
       "      <td>185429.000000</td>\n",
       "      <td>185429.000000</td>\n",
       "      <td>185429.000000</td>\n",
       "      <td>185429.000000</td>\n",
       "      <td>185429.000000</td>\n",
       "      <td>185429.000000</td>\n",
       "      <td>185429.000000</td>\n",
       "    </tr>\n",
       "    <tr>\n",
       "      <th>mean</th>\n",
       "      <td>227566.002826</td>\n",
       "      <td>53.622012</td>\n",
       "      <td>5.043093e+06</td>\n",
       "      <td>8.878935</td>\n",
       "      <td>8.839529</td>\n",
       "      <td>301.488174</td>\n",
       "      <td>22.142782</td>\n",
       "      <td>41.126161</td>\n",
       "      <td>17.916060</td>\n",
       "      <td>25.375847</td>\n",
       "      <td>27.615136</td>\n",
       "      <td>9.397904</td>\n",
       "    </tr>\n",
       "    <tr>\n",
       "      <th>std</th>\n",
       "      <td>138884.755785</td>\n",
       "      <td>57.728850</td>\n",
       "      <td>9.476455e+07</td>\n",
       "      <td>4.405043</td>\n",
       "      <td>3.549619</td>\n",
       "      <td>189.861976</td>\n",
       "      <td>19.550663</td>\n",
       "      <td>49.466527</td>\n",
       "      <td>18.002015</td>\n",
       "      <td>25.318335</td>\n",
       "      <td>28.276447</td>\n",
       "      <td>7.689497</td>\n",
       "    </tr>\n",
       "    <tr>\n",
       "      <th>min</th>\n",
       "      <td>38.000000</td>\n",
       "      <td>1.000000</td>\n",
       "      <td>2.700000e+01</td>\n",
       "      <td>0.000000</td>\n",
       "      <td>1.000000</td>\n",
       "      <td>0.000000</td>\n",
       "      <td>0.000000</td>\n",
       "      <td>0.000000</td>\n",
       "      <td>0.000000</td>\n",
       "      <td>0.000000</td>\n",
       "      <td>0.000000</td>\n",
       "      <td>0.000000</td>\n",
       "    </tr>\n",
       "    <tr>\n",
       "      <th>25%</th>\n",
       "      <td>108456.000000</td>\n",
       "      <td>20.000000</td>\n",
       "      <td>5.914400e+04</td>\n",
       "      <td>6.000000</td>\n",
       "      <td>6.000000</td>\n",
       "      <td>154.700000</td>\n",
       "      <td>7.000000</td>\n",
       "      <td>8.000000</td>\n",
       "      <td>4.000000</td>\n",
       "      <td>6.000000</td>\n",
       "      <td>6.000000</td>\n",
       "      <td>3.000000</td>\n",
       "    </tr>\n",
       "    <tr>\n",
       "      <th>50%</th>\n",
       "      <td>215306.000000</td>\n",
       "      <td>35.000000</td>\n",
       "      <td>1.868020e+05</td>\n",
       "      <td>8.000000</td>\n",
       "      <td>9.000000</td>\n",
       "      <td>268.600000</td>\n",
       "      <td>17.000000</td>\n",
       "      <td>21.000000</td>\n",
       "      <td>12.000000</td>\n",
       "      <td>15.000000</td>\n",
       "      <td>18.000000</td>\n",
       "      <td>8.000000</td>\n",
       "    </tr>\n",
       "    <tr>\n",
       "      <th>75%</th>\n",
       "      <td>337192.000000</td>\n",
       "      <td>60.000000</td>\n",
       "      <td>4.189150e+05</td>\n",
       "      <td>12.000000</td>\n",
       "      <td>11.000000</td>\n",
       "      <td>415.100000</td>\n",
       "      <td>32.000000</td>\n",
       "      <td>54.000000</td>\n",
       "      <td>26.000000</td>\n",
       "      <td>41.000000</td>\n",
       "      <td>41.000000</td>\n",
       "      <td>14.000000</td>\n",
       "    </tr>\n",
       "    <tr>\n",
       "      <th>max</th>\n",
       "      <td>537716.000000</td>\n",
       "      <td>255.000000</td>\n",
       "      <td>2.002285e+09</td>\n",
       "      <td>21.000000</td>\n",
       "      <td>43.000000</td>\n",
       "      <td>1194.300000</td>\n",
       "      <td>108.000000</td>\n",
       "      <td>260.000000</td>\n",
       "      <td>88.000000</td>\n",
       "      <td>105.000000</td>\n",
       "      <td>142.000000</td>\n",
       "      <td>41.000000</td>\n",
       "    </tr>\n",
       "  </tbody>\n",
       "</table>\n",
       "</div>"
      ],
      "text/plain": [
       "                  id        minutes  contributor_id        n_steps  \\\n",
       "count  185429.000000  185429.000000    1.854290e+05  185429.000000   \n",
       "mean   227566.002826      53.622012    5.043093e+06       8.878935   \n",
       "std    138884.755785      57.728850    9.476455e+07       4.405043   \n",
       "min        38.000000       1.000000    2.700000e+01       0.000000   \n",
       "25%    108456.000000      20.000000    5.914400e+04       6.000000   \n",
       "50%    215306.000000      35.000000    1.868020e+05       8.000000   \n",
       "75%    337192.000000      60.000000    4.189150e+05      12.000000   \n",
       "max    537716.000000     255.000000    2.002285e+09      21.000000   \n",
       "\n",
       "       n_ingredients   calories (#)  total fat (PDV)    sugar (PDV)  \\\n",
       "count  185429.000000  185429.000000    185429.000000  185429.000000   \n",
       "mean        8.839529     301.488174        22.142782      41.126161   \n",
       "std         3.549619     189.861976        19.550663      49.466527   \n",
       "min         1.000000       0.000000         0.000000       0.000000   \n",
       "25%         6.000000     154.700000         7.000000       8.000000   \n",
       "50%         9.000000     268.600000        17.000000      21.000000   \n",
       "75%        11.000000     415.100000        32.000000      54.000000   \n",
       "max        43.000000    1194.300000       108.000000     260.000000   \n",
       "\n",
       "        sodium (PDV)  protein (PDV)  saturated fat (PDV)  carbohydrates (PDV)  \n",
       "count  185429.000000  185429.000000        185429.000000        185429.000000  \n",
       "mean       17.916060      25.375847            27.615136             9.397904  \n",
       "std        18.002015      25.318335            28.276447             7.689497  \n",
       "min         0.000000       0.000000             0.000000             0.000000  \n",
       "25%         4.000000       6.000000             6.000000             3.000000  \n",
       "50%        12.000000      15.000000            18.000000             8.000000  \n",
       "75%        26.000000      41.000000            41.000000            14.000000  \n",
       "max        88.000000     105.000000           142.000000            41.000000  "
      ]
     },
     "execution_count": 34,
     "metadata": {},
     "output_type": "execute_result"
    }
   ],
   "source": [
    "recipe_df_cleaned.describe()"
   ]
  },
  {
   "cell_type": "markdown",
   "metadata": {},
   "source": [
    "Since there a bunch of outliers, the best I can do is to replace their value to percentile 95."
   ]
  },
  {
   "cell_type": "markdown",
   "metadata": {},
   "source": [
    "### Saving current state of the dataset"
   ]
  },
  {
   "cell_type": "code",
   "execution_count": 35,
   "metadata": {},
   "outputs": [],
   "source": [
    "recipe_df_cleaned.to_csv(\"../data/processed/recipe_to_db.csv\", index=False)"
   ]
  }
 ],
 "metadata": {
  "kernelspec": {
   "display_name": "Python 3",
   "language": "python",
   "name": "python3"
  },
  "language_info": {
   "codemirror_mode": {
    "name": "ipython",
    "version": 3
   },
   "file_extension": ".py",
   "mimetype": "text/x-python",
   "name": "python",
   "nbconvert_exporter": "python",
   "pygments_lexer": "ipython3",
   "version": "3.10.12"
  }
 },
 "nbformat": 4,
 "nbformat_minor": 2
}
