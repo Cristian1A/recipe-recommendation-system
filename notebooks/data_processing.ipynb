{
 "cells": [
  {
   "cell_type": "markdown",
   "metadata": {},
   "source": [
    "# Data processing"
   ]
  },
  {
   "cell_type": "markdown",
   "metadata": {},
   "source": [
    "This notebook will deal with the processing of the characteristics of our recipe dataset. We will see how to transform the categorical columns into numerical ones and we will leave a new dataset in h5 format ready to train our recommender model."
   ]
  },
  {
   "cell_type": "markdown",
   "metadata": {},
   "source": [
    "Let's look again at the data types of our columns."
   ]
  },
  {
   "cell_type": "code",
   "execution_count": 9,
   "metadata": {},
   "outputs": [],
   "source": [
    "import pandas as pd\n",
    "import matplotlib.pyplot as plt\n",
    "import seaborn as sns"
   ]
  },
  {
   "cell_type": "code",
   "execution_count": null,
   "metadata": {},
   "outputs": [
    {
     "name": "stdout",
     "output_type": "stream",
     "text": [
      "<class 'pandas.core.frame.DataFrame'>\n",
      "RangeIndex: 226657 entries, 0 to 226656\n",
      "Data columns (total 18 columns):\n",
      " #   Column               Non-Null Count   Dtype  \n",
      "---  ------               --------------   -----  \n",
      " 0   name                 226657 non-null  object \n",
      " 1   id                   226657 non-null  int64  \n",
      " 2   minutes              226657 non-null  float64\n",
      " 3   contributor_id       226657 non-null  int64  \n",
      " 4   submitted            226657 non-null  object \n",
      " 5   tags                 226657 non-null  object \n",
      " 6   n_steps              226657 non-null  int64  \n",
      " 7   steps                226657 non-null  object \n",
      " 8   description          226657 non-null  object \n",
      " 9   ingredients          226657 non-null  object \n",
      " 10  n_ingredients        226657 non-null  int64  \n",
      " 11  calories (#)         226657 non-null  float64\n",
      " 12  total fat (PDV)      226657 non-null  float64\n",
      " 13  sugar (PDV)          226657 non-null  float64\n",
      " 14  sodium (PDV)         226657 non-null  float64\n",
      " 15  protein (PDV)        226657 non-null  float64\n",
      " 16  saturated fat (PDV)  226657 non-null  float64\n",
      " 17  carbohydrates (PDV)  226657 non-null  float64\n",
      "dtypes: float64(8), int64(4), object(6)\n",
      "memory usage: 31.1+ MB\n"
     ]
    }
   ],
   "source": [
    "recipe_df = pd.read_csv('../data/processed/recipe_to_db.csv')\n",
    "recipe_df.info()"
   ]
  },
  {
   "cell_type": "markdown",
   "metadata": {},
   "source": [
    "## Numeric columns"
   ]
  },
  {
   "cell_type": "markdown",
   "metadata": {},
   "source": [
    "Before looking at the categorical columns, I will focus on two columns containing numerical data: id and contributor_id. "
   ]
  },
  {
   "cell_type": "markdown",
   "metadata": {},
   "source": [
    "Id corresponds to the unique identifier of each recipe, so for practical purposes it is a column that is useless in the work of the model, so I will remove it."
   ]
  },
  {
   "cell_type": "code",
   "execution_count": 8,
   "metadata": {},
   "outputs": [],
   "source": [
    "recipe_df = recipe_df.drop(columns=['id'])"
   ]
  },
  {
   "cell_type": "markdown",
   "metadata": {},
   "source": [
    "After removing this category, let's look at the contributor_id category. Unlike the previous category, in this one several recipes may have been published by the same user, so it could be useful to transform this categorical column into a numerical one that reflects, for example, the relevance of the author of the recipe (ratio of recipes published by the author over the total number of recipes published)."
   ]
  },
  {
   "cell_type": "code",
   "execution_count": 14,
   "metadata": {},
   "outputs": [],
   "source": [
    "def plot_frequencies(df):\n",
    "    frequencies = df.value_counts()\n",
    "    \n",
    "    plt.figure(figsize=(10, 6))\n",
    "    sns.histplot(frequencies, bins=30)\n",
    "    plt.title('Contributor_id frequency distribution')\n",
    "    plt.xlabel('Frequency')\n",
    "    plt.ylabel('Contributor_id')\n",
    "    plt.show()"
   ]
  },
  {
   "cell_type": "code",
   "execution_count": 15,
   "metadata": {},
   "outputs": [
    {
     "data": {
      "image/png": "[encoded data removed]",
      "text/plain": [
       "<Figure size 1000x600 with 1 Axes>"
      ]
     },
     "metadata": {},
     "output_type": "display_data"
    }
   ],
   "source": [
    "plot_frequencies(recipe_df['contributor_id'])"
   ]
  },
  {
   "cell_type": "code",
   "execution_count": 19,
   "metadata": {},
   "outputs": [
    {
     "data": {
      "text/plain": [
       "0.44989708590618566"
      ]
     },
     "execution_count": 19,
     "metadata": {},
     "output_type": "execute_result"
    }
   ],
   "source": [
    "frequencies = recipe_df['contributor_id'].value_counts()\n",
    "repeated_count = (frequencies >= 2).sum()\n",
    "\n",
    "repeated_count/len(frequencies)"
   ]
  },
  {
   "cell_type": "markdown",
   "metadata": {},
   "source": [
    "\n",
    "The fact that 45% of the authors in your dataset have published at least two recipes is a relevant piece of information that can have important implications for your analysis. Although it is a column of IDs, which at first might seem merely identifying, this type of information can be evaluated as the frequency with which a given author publishes recipes."
   ]
  },
  {
   "cell_type": "code",
   "execution_count": 20,
   "metadata": {},
   "outputs": [],
   "source": [
    "recipe_df['contributor_id'] = recipe_df['contributor_id'].astype('category')\n",
    "\n",
    "frequency_encoding = recipe_df['contributor_id'].value_counts().to_dict()\n",
    "recipe_df['contributor_id_frequency'] = recipe_df['contributor_id'].map(frequency_encoding)\n",
    "\n",
    "recipe_df = recipe_df.drop(columns=['contributor_id'])"
   ]
  },
  {
   "cell_type": "markdown",
   "metadata": {},
   "source": [
    "Now our dataset looks like this."
   ]
  },
  {
   "cell_type": "code",
   "execution_count": 21,
   "metadata": {},
   "outputs": [
    {
     "data": {
      "text/html": [
       "<div>\n",
       "<style scoped>\n",
       "    .dataframe tbody tr th:only-of-type {\n",
       "        vertical-align: middle;\n",
       "    }\n",
       "\n",
       "    .dataframe tbody tr th {\n",
       "        vertical-align: top;\n",
       "    }\n",
       "\n",
       "    .dataframe thead th {\n",
       "        text-align: right;\n",
       "    }\n",
       "</style>\n",
       "<table border=\"1\" class=\"dataframe\">\n",
       "  <thead>\n",
       "    <tr style=\"text-align: right;\">\n",
       "      <th></th>\n",
       "      <th>name</th>\n",
       "      <th>minutes</th>\n",
       "      <th>submitted</th>\n",
       "      <th>tags</th>\n",
       "      <th>n_steps</th>\n",
       "      <th>steps</th>\n",
       "      <th>description</th>\n",
       "      <th>ingredients</th>\n",
       "      <th>n_ingredients</th>\n",
       "      <th>calories (#)</th>\n",
       "      <th>total fat (PDV)</th>\n",
       "      <th>sugar (PDV)</th>\n",
       "      <th>sodium (PDV)</th>\n",
       "      <th>protein (PDV)</th>\n",
       "      <th>saturated fat (PDV)</th>\n",
       "      <th>carbohydrates (PDV)</th>\n",
       "      <th>contributor_id_frequency</th>\n",
       "    </tr>\n",
       "  </thead>\n",
       "  <tbody>\n",
       "    <tr>\n",
       "      <th>0</th>\n",
       "      <td>arriba   baked winter squash mexican style</td>\n",
       "      <td>55.0</td>\n",
       "      <td>2005-09-16</td>\n",
       "      <td>['60-minutes-or-less', 'time-to-make', 'course...</td>\n",
       "      <td>11</td>\n",
       "      <td>['make a choice and proceed with recipe', 'dep...</td>\n",
       "      <td>autumn is my favorite time of year to cook! th...</td>\n",
       "      <td>['winter squash', 'mexican seasoning', 'mixed ...</td>\n",
       "      <td>7</td>\n",
       "      <td>51.5</td>\n",
       "      <td>0.0</td>\n",
       "      <td>13.0</td>\n",
       "      <td>0.0</td>\n",
       "      <td>2.0</td>\n",
       "      <td>0.0</td>\n",
       "      <td>4.0</td>\n",
       "      <td>735</td>\n",
       "    </tr>\n",
       "    <tr>\n",
       "      <th>1</th>\n",
       "      <td>a bit different  breakfast pizza</td>\n",
       "      <td>30.0</td>\n",
       "      <td>2002-06-17</td>\n",
       "      <td>['30-minutes-or-less', 'time-to-make', 'course...</td>\n",
       "      <td>9</td>\n",
       "      <td>['preheat oven to 425 degrees f', 'press dough...</td>\n",
       "      <td>this recipe calls for the crust to be prebaked...</td>\n",
       "      <td>['prepared pizza crust', 'sausage patty', 'egg...</td>\n",
       "      <td>6</td>\n",
       "      <td>173.4</td>\n",
       "      <td>18.0</td>\n",
       "      <td>0.0</td>\n",
       "      <td>17.0</td>\n",
       "      <td>22.0</td>\n",
       "      <td>35.0</td>\n",
       "      <td>1.0</td>\n",
       "      <td>365</td>\n",
       "    </tr>\n",
       "    <tr>\n",
       "      <th>2</th>\n",
       "      <td>all in the kitchen  chili</td>\n",
       "      <td>130.0</td>\n",
       "      <td>2005-02-25</td>\n",
       "      <td>['time-to-make', 'course', 'preparation', 'mai...</td>\n",
       "      <td>6</td>\n",
       "      <td>['brown ground beef in large pot', 'add choppe...</td>\n",
       "      <td>this modified version of 'mom's' chili was a h...</td>\n",
       "      <td>['ground beef', 'yellow onions', 'diced tomato...</td>\n",
       "      <td>13</td>\n",
       "      <td>269.8</td>\n",
       "      <td>22.0</td>\n",
       "      <td>32.0</td>\n",
       "      <td>48.0</td>\n",
       "      <td>39.0</td>\n",
       "      <td>27.0</td>\n",
       "      <td>5.0</td>\n",
       "      <td>7</td>\n",
       "    </tr>\n",
       "    <tr>\n",
       "      <th>3</th>\n",
       "      <td>alouette  potatoes</td>\n",
       "      <td>45.0</td>\n",
       "      <td>2003-04-14</td>\n",
       "      <td>['60-minutes-or-less', 'time-to-make', 'course...</td>\n",
       "      <td>11</td>\n",
       "      <td>['place potatoes in a large pot of lightly sal...</td>\n",
       "      <td>this is a super easy, great tasting, make ahea...</td>\n",
       "      <td>['spreadable cheese with garlic and herbs', 'n...</td>\n",
       "      <td>11</td>\n",
       "      <td>368.1</td>\n",
       "      <td>17.0</td>\n",
       "      <td>10.0</td>\n",
       "      <td>2.0</td>\n",
       "      <td>14.0</td>\n",
       "      <td>8.0</td>\n",
       "      <td>20.0</td>\n",
       "      <td>114</td>\n",
       "    </tr>\n",
       "    <tr>\n",
       "      <th>4</th>\n",
       "      <td>amish  tomato ketchup  for canning</td>\n",
       "      <td>190.0</td>\n",
       "      <td>2002-10-25</td>\n",
       "      <td>['weeknight', 'time-to-make', 'course', 'main-...</td>\n",
       "      <td>5</td>\n",
       "      <td>['mix all ingredients&amp; boil for 2 1 / 2 hours ...</td>\n",
       "      <td>my dh's amish mother raised him on this recipe...</td>\n",
       "      <td>['tomato juice', 'apple cider vinegar', 'sugar...</td>\n",
       "      <td>8</td>\n",
       "      <td>352.9</td>\n",
       "      <td>1.0</td>\n",
       "      <td>337.0</td>\n",
       "      <td>23.0</td>\n",
       "      <td>3.0</td>\n",
       "      <td>0.0</td>\n",
       "      <td>28.0</td>\n",
       "      <td>90</td>\n",
       "    </tr>\n",
       "  </tbody>\n",
       "</table>\n",
       "</div>"
      ],
      "text/plain": [
       "                                         name  minutes   submitted  \\\n",
       "0  arriba   baked winter squash mexican style     55.0  2005-09-16   \n",
       "1            a bit different  breakfast pizza     30.0  2002-06-17   \n",
       "2                   all in the kitchen  chili    130.0  2005-02-25   \n",
       "3                          alouette  potatoes     45.0  2003-04-14   \n",
       "4          amish  tomato ketchup  for canning    190.0  2002-10-25   \n",
       "\n",
       "                                                tags  n_steps  \\\n",
       "0  ['60-minutes-or-less', 'time-to-make', 'course...       11   \n",
       "1  ['30-minutes-or-less', 'time-to-make', 'course...        9   \n",
       "2  ['time-to-make', 'course', 'preparation', 'mai...        6   \n",
       "3  ['60-minutes-or-less', 'time-to-make', 'course...       11   \n",
       "4  ['weeknight', 'time-to-make', 'course', 'main-...        5   \n",
       "\n",
       "                                               steps  \\\n",
       "0  ['make a choice and proceed with recipe', 'dep...   \n",
       "1  ['preheat oven to 425 degrees f', 'press dough...   \n",
       "2  ['brown ground beef in large pot', 'add choppe...   \n",
       "3  ['place potatoes in a large pot of lightly sal...   \n",
       "4  ['mix all ingredients& boil for 2 1 / 2 hours ...   \n",
       "\n",
       "                                         description  \\\n",
       "0  autumn is my favorite time of year to cook! th...   \n",
       "1  this recipe calls for the crust to be prebaked...   \n",
       "2  this modified version of 'mom's' chili was a h...   \n",
       "3  this is a super easy, great tasting, make ahea...   \n",
       "4  my dh's amish mother raised him on this recipe...   \n",
       "\n",
       "                                         ingredients  n_ingredients  \\\n",
       "0  ['winter squash', 'mexican seasoning', 'mixed ...              7   \n",
       "1  ['prepared pizza crust', 'sausage patty', 'egg...              6   \n",
       "2  ['ground beef', 'yellow onions', 'diced tomato...             13   \n",
       "3  ['spreadable cheese with garlic and herbs', 'n...             11   \n",
       "4  ['tomato juice', 'apple cider vinegar', 'sugar...              8   \n",
       "\n",
       "   calories (#)  total fat (PDV)  sugar (PDV)  sodium (PDV)  protein (PDV)  \\\n",
       "0          51.5              0.0         13.0           0.0            2.0   \n",
       "1         173.4             18.0          0.0          17.0           22.0   \n",
       "2         269.8             22.0         32.0          48.0           39.0   \n",
       "3         368.1             17.0         10.0           2.0           14.0   \n",
       "4         352.9              1.0        337.0          23.0            3.0   \n",
       "\n",
       "   saturated fat (PDV)  carbohydrates (PDV)  contributor_id_frequency  \n",
       "0                  0.0                  4.0                       735  \n",
       "1                 35.0                  1.0                       365  \n",
       "2                 27.0                  5.0                         7  \n",
       "3                  8.0                 20.0                       114  \n",
       "4                  0.0                 28.0                        90  "
      ]
     },
     "execution_count": 21,
     "metadata": {},
     "output_type": "execute_result"
    }
   ],
   "source": [
    "recipe_df.head()"
   ]
  },
  {
   "cell_type": "code",
   "execution_count": 22,
   "metadata": {},
   "outputs": [
    {
     "name": "stdout",
     "output_type": "stream",
     "text": [
      "<class 'pandas.core.frame.DataFrame'>\n",
      "RangeIndex: 226657 entries, 0 to 226656\n",
      "Data columns (total 17 columns):\n",
      " #   Column                    Non-Null Count   Dtype  \n",
      "---  ------                    --------------   -----  \n",
      " 0   name                      226657 non-null  object \n",
      " 1   minutes                   226657 non-null  float64\n",
      " 2   submitted                 226657 non-null  object \n",
      " 3   tags                      226657 non-null  object \n",
      " 4   n_steps                   226657 non-null  int64  \n",
      " 5   steps                     226657 non-null  object \n",
      " 6   description               226657 non-null  object \n",
      " 7   ingredients               226657 non-null  object \n",
      " 8   n_ingredients             226657 non-null  int64  \n",
      " 9   calories (#)              226657 non-null  float64\n",
      " 10  total fat (PDV)           226657 non-null  float64\n",
      " 11  sugar (PDV)               226657 non-null  float64\n",
      " 12  sodium (PDV)              226657 non-null  float64\n",
      " 13  protein (PDV)             226657 non-null  float64\n",
      " 14  saturated fat (PDV)       226657 non-null  float64\n",
      " 15  carbohydrates (PDV)       226657 non-null  float64\n",
      " 16  contributor_id_frequency  226657 non-null  int64  \n",
      "dtypes: float64(8), int64(3), object(6)\n",
      "memory usage: 29.4+ MB\n"
     ]
    }
   ],
   "source": [
    "recipe_df.info()"
   ]
  },
  {
   "cell_type": "markdown",
   "metadata": {},
   "source": [
    "## Cathegorical columns"
   ]
  },
  {
   "cell_type": "markdown",
   "metadata": {},
   "source": [
    "Let's look again at the data types of our columns."
   ]
  },
  {
   "cell_type": "markdown",
   "metadata": {},
   "source": [
    "In order to train our future model we first need to convert these six categorical columns (name, submitted, tags, steps, description and ingredients) using a numerical representation."
   ]
  },
  {
   "cell_type": "code",
   "execution_count": 7,
   "metadata": {},
   "outputs": [
    {
     "data": {
      "text/html": [
       "<div>\n",
       "<style scoped>\n",
       "    .dataframe tbody tr th:only-of-type {\n",
       "        vertical-align: middle;\n",
       "    }\n",
       "\n",
       "    .dataframe tbody tr th {\n",
       "        vertical-align: top;\n",
       "    }\n",
       "\n",
       "    .dataframe thead th {\n",
       "        text-align: right;\n",
       "    }\n",
       "</style>\n",
       "<table border=\"1\" class=\"dataframe\">\n",
       "  <thead>\n",
       "    <tr style=\"text-align: right;\">\n",
       "      <th></th>\n",
       "      <th>name</th>\n",
       "      <th>submitted</th>\n",
       "      <th>tags</th>\n",
       "      <th>steps</th>\n",
       "      <th>description</th>\n",
       "      <th>ingredients</th>\n",
       "    </tr>\n",
       "  </thead>\n",
       "  <tbody>\n",
       "    <tr>\n",
       "      <th>0</th>\n",
       "      <td>arriba   baked winter squash mexican style</td>\n",
       "      <td>2005-09-16</td>\n",
       "      <td>['60-minutes-or-less', 'time-to-make', 'course...</td>\n",
       "      <td>['make a choice and proceed with recipe', 'dep...</td>\n",
       "      <td>autumn is my favorite time of year to cook! th...</td>\n",
       "      <td>['winter squash', 'mexican seasoning', 'mixed ...</td>\n",
       "    </tr>\n",
       "    <tr>\n",
       "      <th>1</th>\n",
       "      <td>a bit different  breakfast pizza</td>\n",
       "      <td>2002-06-17</td>\n",
       "      <td>['30-minutes-or-less', 'time-to-make', 'course...</td>\n",
       "      <td>['preheat oven to 425 degrees f', 'press dough...</td>\n",
       "      <td>this recipe calls for the crust to be prebaked...</td>\n",
       "      <td>['prepared pizza crust', 'sausage patty', 'egg...</td>\n",
       "    </tr>\n",
       "    <tr>\n",
       "      <th>2</th>\n",
       "      <td>all in the kitchen  chili</td>\n",
       "      <td>2005-02-25</td>\n",
       "      <td>['time-to-make', 'course', 'preparation', 'mai...</td>\n",
       "      <td>['brown ground beef in large pot', 'add choppe...</td>\n",
       "      <td>this modified version of 'mom's' chili was a h...</td>\n",
       "      <td>['ground beef', 'yellow onions', 'diced tomato...</td>\n",
       "    </tr>\n",
       "    <tr>\n",
       "      <th>3</th>\n",
       "      <td>alouette  potatoes</td>\n",
       "      <td>2003-04-14</td>\n",
       "      <td>['60-minutes-or-less', 'time-to-make', 'course...</td>\n",
       "      <td>['place potatoes in a large pot of lightly sal...</td>\n",
       "      <td>this is a super easy, great tasting, make ahea...</td>\n",
       "      <td>['spreadable cheese with garlic and herbs', 'n...</td>\n",
       "    </tr>\n",
       "    <tr>\n",
       "      <th>4</th>\n",
       "      <td>amish  tomato ketchup  for canning</td>\n",
       "      <td>2002-10-25</td>\n",
       "      <td>['weeknight', 'time-to-make', 'course', 'main-...</td>\n",
       "      <td>['mix all ingredients&amp; boil for 2 1 / 2 hours ...</td>\n",
       "      <td>my dh's amish mother raised him on this recipe...</td>\n",
       "      <td>['tomato juice', 'apple cider vinegar', 'sugar...</td>\n",
       "    </tr>\n",
       "  </tbody>\n",
       "</table>\n",
       "</div>"
      ],
      "text/plain": [
       "                                         name   submitted  \\\n",
       "0  arriba   baked winter squash mexican style  2005-09-16   \n",
       "1            a bit different  breakfast pizza  2002-06-17   \n",
       "2                   all in the kitchen  chili  2005-02-25   \n",
       "3                          alouette  potatoes  2003-04-14   \n",
       "4          amish  tomato ketchup  for canning  2002-10-25   \n",
       "\n",
       "                                                tags  \\\n",
       "0  ['60-minutes-or-less', 'time-to-make', 'course...   \n",
       "1  ['30-minutes-or-less', 'time-to-make', 'course...   \n",
       "2  ['time-to-make', 'course', 'preparation', 'mai...   \n",
       "3  ['60-minutes-or-less', 'time-to-make', 'course...   \n",
       "4  ['weeknight', 'time-to-make', 'course', 'main-...   \n",
       "\n",
       "                                               steps  \\\n",
       "0  ['make a choice and proceed with recipe', 'dep...   \n",
       "1  ['preheat oven to 425 degrees f', 'press dough...   \n",
       "2  ['brown ground beef in large pot', 'add choppe...   \n",
       "3  ['place potatoes in a large pot of lightly sal...   \n",
       "4  ['mix all ingredients& boil for 2 1 / 2 hours ...   \n",
       "\n",
       "                                         description  \\\n",
       "0  autumn is my favorite time of year to cook! th...   \n",
       "1  this recipe calls for the crust to be prebaked...   \n",
       "2  this modified version of 'mom's' chili was a h...   \n",
       "3  this is a super easy, great tasting, make ahea...   \n",
       "4  my dh's amish mother raised him on this recipe...   \n",
       "\n",
       "                                         ingredients  \n",
       "0  ['winter squash', 'mexican seasoning', 'mixed ...  \n",
       "1  ['prepared pizza crust', 'sausage patty', 'egg...  \n",
       "2  ['ground beef', 'yellow onions', 'diced tomato...  \n",
       "3  ['spreadable cheese with garlic and herbs', 'n...  \n",
       "4  ['tomato juice', 'apple cider vinegar', 'sugar...  "
      ]
     },
     "execution_count": 7,
     "metadata": {},
     "output_type": "execute_result"
    }
   ],
   "source": [
    "cathegorical_cols = recipe_df.select_dtypes(include=['object', 'category']).columns\n",
    "recipe_df[cathegorical_cols].head()"
   ]
  },
  {
   "cell_type": "markdown",
   "metadata": {},
   "source": [
    "We can divide these categories into several groups depending on how we process them to make them numerical:\n",
    "1) Numerical representation from EPOCH - submitted\n",
    "2) Average number of word embeddings - name, description\n",
    "3) Sum of average word embeddings - tags, ingredients\n",
    "4) Division into several categories + sum of average word embeddings - steps"
   ]
  },
  {
   "cell_type": "markdown",
   "metadata": {},
   "source": [
    "This may sound confusing at first, but I will explain this later in each step of the conversion of these categories."
   ]
  },
  {
   "cell_type": "markdown",
   "metadata": {},
   "source": [
    "### Numerical representation from EPOCH - submitted"
   ]
  },
  {
   "cell_type": "markdown",
   "metadata": {},
   "source": [
    "The date on which the prescriptions were recorded in the dataset had been stored as a string representing a date in the format YYYYY-MM-DD. To train our recommender it is convenient to find a numerical representation for this category and I thought of using the number of seconds elapsed since the date of publication of the recipe and EPOCH (Unix Epoch) since it is a simple form of coding that facilitates the calculations and the normalisation of this information in conjunction with the rest of the variables in the dataset."
   ]
  },
  {
   "cell_type": "code",
   "execution_count": 23,
   "metadata": {},
   "outputs": [],
   "source": [
    "from datetime import datetime"
   ]
  },
  {
   "cell_type": "code",
   "execution_count": 24,
   "metadata": {},
   "outputs": [],
   "source": [
    "date_array = recipe_df['submitted']\n",
    "unix_time = [int(datetime.strptime(date_str, '%Y-%m-%d').timestamp()) for date_str in date_array]\n",
    "\n",
    "recipe_df['unix_submit_time'] = unix_time\n",
    "recipe_df = recipe_df.drop(columns=['submitted'])"
   ]
  },
  {
   "cell_type": "markdown",
   "metadata": {},
   "source": [
    "### Average number of word embeddings - name, description"
   ]
  },
  {
   "cell_type": "markdown",
   "metadata": {},
   "source": [
    "There are several columns in our dataset that have to do with raw text that either contains the name of a recipe, the steps to be followed to make it or the ingredients it requires. All these data are, like the rest, very useful to feed our model with valuable information that will improve the quality of our recommendations. But as mentioned before, categorical variables must first be transformed before they can be used. Words can either be treated with One-Hot Encoding, which converts each distinct value into an independent Boolean category; or with embeddings, which are a representation of the words in the model."
   ]
  },
  {
   "cell_type": "markdown",
   "metadata": {},
   "source": [
    "Using OHE (One-Hot Encoding) can be a good alternative if the values tend to repeat themselves and, ultimately, do not generate too many new categories. As far as the information we have is concerned, this is by no means something we are assured of as we have a vast amount of different words in the name and description categories, not to mention steps. Not even the ingredients column is spared. That is why I consider that the best thing to do is to make the pertinent transformation of these values in embeddings."
   ]
  },
  {
   "cell_type": "markdown",
   "metadata": {},
   "source": [
    "The strategy we will follow to transform the name and description categories is as follows:\n",
    "First, we will obtain a list of strings representing all the words contained in each row.\n",
    "Then we will extract the embeddings of all the words in the lists.\n",
    "And finally, we will compute the average of these values to have a global representation of the whole phrase."
   ]
  },
  {
   "cell_type": "markdown",
   "metadata": {},
   "source": [
    "First let's get the names of the recipes by deleting any hyphens or spaces in between."
   ]
  },
  {
   "cell_type": "code",
   "execution_count": 26,
   "metadata": {},
   "outputs": [],
   "source": [
    "import re"
   ]
  },
  {
   "cell_type": "code",
   "execution_count": 27,
   "metadata": {},
   "outputs": [],
   "source": [
    "pp_recipe_names = [re.split(r'[- ]+', name) for name in recipe_df['name']]"
   ]
  },
  {
   "cell_type": "markdown",
   "metadata": {},
   "source": [
    "To extract these embeddings we will use the model trained by google: GoogleNews-vectors-negative300. "
   ]
  },
  {
   "cell_type": "code",
   "execution_count": 29,
   "metadata": {},
   "outputs": [],
   "source": [
    "from gensim.models import KeyedVectors\n",
    "import numpy as np"
   ]
  },
  {
   "cell_type": "code",
   "execution_count": 30,
   "metadata": {},
   "outputs": [],
   "source": [
    "model = KeyedVectors.load_word2vec_format('../data/embeddings/GoogleNews-vectors-negative300.bin', binary=True)"
   ]
  },
  {
   "cell_type": "markdown",
   "metadata": {},
   "source": [
    "Now we will define a function that processes each list of strings contained in our name column and computes the average of the embeddings obtained for each item in the list."
   ]
  },
  {
   "cell_type": "code",
   "execution_count": 33,
   "metadata": {},
   "outputs": [],
   "source": [
    "def word_lists_to_embedding_list(word_lists, model):\n",
    "    embeddings = []\n",
    "\n",
    "    for word_list in word_lists:\n",
    "        inner_embeddings = []\n",
    "\n",
    "        for word in word_list:\n",
    "            if word in model:\n",
    "                word_embeddings = model[word]\n",
    "                inner_embeddings.append(word_embeddings)\n",
    "\n",
    "        if inner_embeddings:  \n",
    "            average_embedding = np.mean(inner_embeddings, axis=0)\n",
    "            embeddings.append(average_embedding)\n",
    "    \n",
    "    return embeddings"
   ]
  },
  {
   "cell_type": "code",
   "execution_count": 34,
   "metadata": {},
   "outputs": [],
   "source": [
    "embeddings = word_lists_to_embedding_list(pp_recipe_names, model)"
   ]
  },
  {
   "cell_type": "markdown",
   "metadata": {},
   "source": [
    "Let's replace the old name column with the embeddings columns."
   ]
  },
  {
   "cell_type": "code",
   "execution_count": 35,
   "metadata": {},
   "outputs": [],
   "source": [
    "name_embeddings_df = pd.DataFrame(embeddings)\n",
    "name_embeddings_df.columns = [f'name_embedding_{i}' for i in range(name_embeddings_df.shape[1])]\n",
    "\n",
    "recipe_df = pd.concat([recipe_df, name_embeddings_df], axis=1)\n",
    "\n",
    "recipe_df.drop(columns=['name'], inplace=True)\n",
    "\n",
    "del embeddings\n",
    "del name_embeddings_df"
   ]
  },
  {
   "cell_type": "code",
   "execution_count": 36,
   "metadata": {},
   "outputs": [
    {
     "data": {
      "text/html": [
       "<div>\n",
       "<style scoped>\n",
       "    .dataframe tbody tr th:only-of-type {\n",
       "        vertical-align: middle;\n",
       "    }\n",
       "\n",
       "    .dataframe tbody tr th {\n",
       "        vertical-align: top;\n",
       "    }\n",
       "\n",
       "    .dataframe thead th {\n",
       "        text-align: right;\n",
       "    }\n",
       "</style>\n",
       "<table border=\"1\" class=\"dataframe\">\n",
       "  <thead>\n",
       "    <tr style=\"text-align: right;\">\n",
       "      <th></th>\n",
       "      <th>minutes</th>\n",
       "      <th>tags</th>\n",
       "      <th>n_steps</th>\n",
       "      <th>steps</th>\n",
       "      <th>description</th>\n",
       "      <th>ingredients</th>\n",
       "      <th>n_ingredients</th>\n",
       "      <th>calories (#)</th>\n",
       "      <th>total fat (PDV)</th>\n",
       "      <th>sugar (PDV)</th>\n",
       "      <th>...</th>\n",
       "      <th>name_embedding_290</th>\n",
       "      <th>name_embedding_291</th>\n",
       "      <th>name_embedding_292</th>\n",
       "      <th>name_embedding_293</th>\n",
       "      <th>name_embedding_294</th>\n",
       "      <th>name_embedding_295</th>\n",
       "      <th>name_embedding_296</th>\n",
       "      <th>name_embedding_297</th>\n",
       "      <th>name_embedding_298</th>\n",
       "      <th>name_embedding_299</th>\n",
       "    </tr>\n",
       "  </thead>\n",
       "  <tbody>\n",
       "    <tr>\n",
       "      <th>0</th>\n",
       "      <td>55.0</td>\n",
       "      <td>['60-minutes-or-less', 'time-to-make', 'course...</td>\n",
       "      <td>11</td>\n",
       "      <td>['make a choice and proceed with recipe', 'dep...</td>\n",
       "      <td>autumn is my favorite time of year to cook! th...</td>\n",
       "      <td>['winter squash', 'mexican seasoning', 'mixed ...</td>\n",
       "      <td>7</td>\n",
       "      <td>51.5</td>\n",
       "      <td>0.0</td>\n",
       "      <td>13.0</td>\n",
       "      <td>...</td>\n",
       "      <td>-0.099447</td>\n",
       "      <td>0.005037</td>\n",
       "      <td>-0.045776</td>\n",
       "      <td>0.111369</td>\n",
       "      <td>0.139648</td>\n",
       "      <td>-0.034017</td>\n",
       "      <td>0.043209</td>\n",
       "      <td>-0.072571</td>\n",
       "      <td>0.044840</td>\n",
       "      <td>0.109578</td>\n",
       "    </tr>\n",
       "    <tr>\n",
       "      <th>1</th>\n",
       "      <td>30.0</td>\n",
       "      <td>['30-minutes-or-less', 'time-to-make', 'course...</td>\n",
       "      <td>9</td>\n",
       "      <td>['preheat oven to 425 degrees f', 'press dough...</td>\n",
       "      <td>this recipe calls for the crust to be prebaked...</td>\n",
       "      <td>['prepared pizza crust', 'sausage patty', 'egg...</td>\n",
       "      <td>6</td>\n",
       "      <td>173.4</td>\n",
       "      <td>18.0</td>\n",
       "      <td>0.0</td>\n",
       "      <td>...</td>\n",
       "      <td>-0.025238</td>\n",
       "      <td>-0.006104</td>\n",
       "      <td>-0.063217</td>\n",
       "      <td>0.117798</td>\n",
       "      <td>0.067993</td>\n",
       "      <td>-0.103760</td>\n",
       "      <td>0.031204</td>\n",
       "      <td>0.095612</td>\n",
       "      <td>-0.072449</td>\n",
       "      <td>0.013611</td>\n",
       "    </tr>\n",
       "    <tr>\n",
       "      <th>2</th>\n",
       "      <td>130.0</td>\n",
       "      <td>['time-to-make', 'course', 'preparation', 'mai...</td>\n",
       "      <td>6</td>\n",
       "      <td>['brown ground beef in large pot', 'add choppe...</td>\n",
       "      <td>this modified version of 'mom's' chili was a h...</td>\n",
       "      <td>['ground beef', 'yellow onions', 'diced tomato...</td>\n",
       "      <td>13</td>\n",
       "      <td>269.8</td>\n",
       "      <td>22.0</td>\n",
       "      <td>32.0</td>\n",
       "      <td>...</td>\n",
       "      <td>-0.085059</td>\n",
       "      <td>-0.083569</td>\n",
       "      <td>-0.139709</td>\n",
       "      <td>0.098779</td>\n",
       "      <td>0.090723</td>\n",
       "      <td>-0.079260</td>\n",
       "      <td>0.080640</td>\n",
       "      <td>-0.000098</td>\n",
       "      <td>0.014343</td>\n",
       "      <td>0.042041</td>\n",
       "    </tr>\n",
       "    <tr>\n",
       "      <th>3</th>\n",
       "      <td>45.0</td>\n",
       "      <td>['60-minutes-or-less', 'time-to-make', 'course...</td>\n",
       "      <td>11</td>\n",
       "      <td>['place potatoes in a large pot of lightly sal...</td>\n",
       "      <td>this is a super easy, great tasting, make ahea...</td>\n",
       "      <td>['spreadable cheese with garlic and herbs', 'n...</td>\n",
       "      <td>11</td>\n",
       "      <td>368.1</td>\n",
       "      <td>17.0</td>\n",
       "      <td>10.0</td>\n",
       "      <td>...</td>\n",
       "      <td>-0.133789</td>\n",
       "      <td>-0.291016</td>\n",
       "      <td>-0.229492</td>\n",
       "      <td>0.184570</td>\n",
       "      <td>0.335938</td>\n",
       "      <td>0.039795</td>\n",
       "      <td>0.024048</td>\n",
       "      <td>-0.024902</td>\n",
       "      <td>0.306641</td>\n",
       "      <td>0.271484</td>\n",
       "    </tr>\n",
       "    <tr>\n",
       "      <th>4</th>\n",
       "      <td>190.0</td>\n",
       "      <td>['weeknight', 'time-to-make', 'course', 'main-...</td>\n",
       "      <td>5</td>\n",
       "      <td>['mix all ingredients&amp; boil for 2 1 / 2 hours ...</td>\n",
       "      <td>my dh's amish mother raised him on this recipe...</td>\n",
       "      <td>['tomato juice', 'apple cider vinegar', 'sugar...</td>\n",
       "      <td>8</td>\n",
       "      <td>352.9</td>\n",
       "      <td>1.0</td>\n",
       "      <td>337.0</td>\n",
       "      <td>...</td>\n",
       "      <td>-0.197778</td>\n",
       "      <td>-0.085193</td>\n",
       "      <td>-0.158838</td>\n",
       "      <td>0.019275</td>\n",
       "      <td>0.134595</td>\n",
       "      <td>-0.116018</td>\n",
       "      <td>0.086377</td>\n",
       "      <td>0.084766</td>\n",
       "      <td>0.070337</td>\n",
       "      <td>0.086768</td>\n",
       "    </tr>\n",
       "  </tbody>\n",
       "</table>\n",
       "<p>5 rows × 316 columns</p>\n",
       "</div>"
      ],
      "text/plain": [
       "   minutes                                               tags  n_steps  \\\n",
       "0     55.0  ['60-minutes-or-less', 'time-to-make', 'course...       11   \n",
       "1     30.0  ['30-minutes-or-less', 'time-to-make', 'course...        9   \n",
       "2    130.0  ['time-to-make', 'course', 'preparation', 'mai...        6   \n",
       "3     45.0  ['60-minutes-or-less', 'time-to-make', 'course...       11   \n",
       "4    190.0  ['weeknight', 'time-to-make', 'course', 'main-...        5   \n",
       "\n",
       "                                               steps  \\\n",
       "0  ['make a choice and proceed with recipe', 'dep...   \n",
       "1  ['preheat oven to 425 degrees f', 'press dough...   \n",
       "2  ['brown ground beef in large pot', 'add choppe...   \n",
       "3  ['place potatoes in a large pot of lightly sal...   \n",
       "4  ['mix all ingredients& boil for 2 1 / 2 hours ...   \n",
       "\n",
       "                                         description  \\\n",
       "0  autumn is my favorite time of year to cook! th...   \n",
       "1  this recipe calls for the crust to be prebaked...   \n",
       "2  this modified version of 'mom's' chili was a h...   \n",
       "3  this is a super easy, great tasting, make ahea...   \n",
       "4  my dh's amish mother raised him on this recipe...   \n",
       "\n",
       "                                         ingredients  n_ingredients  \\\n",
       "0  ['winter squash', 'mexican seasoning', 'mixed ...              7   \n",
       "1  ['prepared pizza crust', 'sausage patty', 'egg...              6   \n",
       "2  ['ground beef', 'yellow onions', 'diced tomato...             13   \n",
       "3  ['spreadable cheese with garlic and herbs', 'n...             11   \n",
       "4  ['tomato juice', 'apple cider vinegar', 'sugar...              8   \n",
       "\n",
       "   calories (#)  total fat (PDV)  sugar (PDV)  ...  name_embedding_290  \\\n",
       "0          51.5              0.0         13.0  ...           -0.099447   \n",
       "1         173.4             18.0          0.0  ...           -0.025238   \n",
       "2         269.8             22.0         32.0  ...           -0.085059   \n",
       "3         368.1             17.0         10.0  ...           -0.133789   \n",
       "4         352.9              1.0        337.0  ...           -0.197778   \n",
       "\n",
       "   name_embedding_291  name_embedding_292  name_embedding_293  \\\n",
       "0            0.005037           -0.045776            0.111369   \n",
       "1           -0.006104           -0.063217            0.117798   \n",
       "2           -0.083569           -0.139709            0.098779   \n",
       "3           -0.291016           -0.229492            0.184570   \n",
       "4           -0.085193           -0.158838            0.019275   \n",
       "\n",
       "   name_embedding_294  name_embedding_295  name_embedding_296  \\\n",
       "0            0.139648           -0.034017            0.043209   \n",
       "1            0.067993           -0.103760            0.031204   \n",
       "2            0.090723           -0.079260            0.080640   \n",
       "3            0.335938            0.039795            0.024048   \n",
       "4            0.134595           -0.116018            0.086377   \n",
       "\n",
       "   name_embedding_297  name_embedding_298  name_embedding_299  \n",
       "0           -0.072571            0.044840            0.109578  \n",
       "1            0.095612           -0.072449            0.013611  \n",
       "2           -0.000098            0.014343            0.042041  \n",
       "3           -0.024902            0.306641            0.271484  \n",
       "4            0.084766            0.070337            0.086768  \n",
       "\n",
       "[5 rows x 316 columns]"
      ]
     },
     "execution_count": 36,
     "metadata": {},
     "output_type": "execute_result"
    }
   ],
   "source": [
    "recipe_df.head()"
   ]
  },
  {
   "cell_type": "markdown",
   "metadata": {},
   "source": [
    "Once we have processed the name column, we now have to modify the description column."
   ]
  },
  {
   "cell_type": "markdown",
   "metadata": {},
   "source": [
    "To do this, we repeat the same process as before, cleaning up the descriptions first."
   ]
  },
  {
   "cell_type": "code",
   "execution_count": 37,
   "metadata": {},
   "outputs": [],
   "source": [
    "def clean_text(text):\n",
    "    text = text.lower()\n",
    "    text = text.replace('\\r', ' ').replace('\\n', ' ').replace('\\t', ' ')\n",
    "    text = re.sub(r'[^\\w\\s]', '', text)\n",
    "    text = re.sub(r'\\s+', ' ', text)\n",
    "    text = text.strip()\n",
    "    return text"
   ]
  },
  {
   "cell_type": "code",
   "execution_count": 38,
   "metadata": {},
   "outputs": [],
   "source": [
    "descriptions = [clean_text(desc) for desc in recipe_df['description']]"
   ]
  },
  {
   "cell_type": "code",
   "execution_count": 40,
   "metadata": {},
   "outputs": [],
   "source": [
    "embeddings = word_lists_to_embedding_list(descriptions, model)"
   ]
  },
  {
   "cell_type": "code",
   "execution_count": 41,
   "metadata": {},
   "outputs": [],
   "source": [
    "description_embeddings_df = pd.DataFrame(embeddings)\n",
    "description_embeddings_df.columns = [f'description_embedding_{i}' for i in range(description_embeddings_df.shape[1])]\n",
    "\n",
    "recipe_df = pd.concat([recipe_df, description_embeddings_df], axis=1)\n",
    "\n",
    "recipe_df.drop(columns=['description'], inplace=True)\n",
    "\n",
    "del embeddings\n",
    "del description_embeddings_df"
   ]
  },
  {
   "cell_type": "code",
   "execution_count": 42,
   "metadata": {},
   "outputs": [
    {
     "data": {
      "text/html": [
       "<div>\n",
       "<style scoped>\n",
       "    .dataframe tbody tr th:only-of-type {\n",
       "        vertical-align: middle;\n",
       "    }\n",
       "\n",
       "    .dataframe tbody tr th {\n",
       "        vertical-align: top;\n",
       "    }\n",
       "\n",
       "    .dataframe thead th {\n",
       "        text-align: right;\n",
       "    }\n",
       "</style>\n",
       "<table border=\"1\" class=\"dataframe\">\n",
       "  <thead>\n",
       "    <tr style=\"text-align: right;\">\n",
       "      <th></th>\n",
       "      <th>minutes</th>\n",
       "      <th>tags</th>\n",
       "      <th>n_steps</th>\n",
       "      <th>steps</th>\n",
       "      <th>ingredients</th>\n",
       "      <th>n_ingredients</th>\n",
       "      <th>calories (#)</th>\n",
       "      <th>total fat (PDV)</th>\n",
       "      <th>sugar (PDV)</th>\n",
       "      <th>sodium (PDV)</th>\n",
       "      <th>...</th>\n",
       "      <th>description_embedding_290</th>\n",
       "      <th>description_embedding_291</th>\n",
       "      <th>description_embedding_292</th>\n",
       "      <th>description_embedding_293</th>\n",
       "      <th>description_embedding_294</th>\n",
       "      <th>description_embedding_295</th>\n",
       "      <th>description_embedding_296</th>\n",
       "      <th>description_embedding_297</th>\n",
       "      <th>description_embedding_298</th>\n",
       "      <th>description_embedding_299</th>\n",
       "    </tr>\n",
       "  </thead>\n",
       "  <tbody>\n",
       "    <tr>\n",
       "      <th>0</th>\n",
       "      <td>55.0</td>\n",
       "      <td>['60-minutes-or-less', 'time-to-make', 'course...</td>\n",
       "      <td>11</td>\n",
       "      <td>['make a choice and proceed with recipe', 'dep...</td>\n",
       "      <td>['winter squash', 'mexican seasoning', 'mixed ...</td>\n",
       "      <td>7</td>\n",
       "      <td>51.5</td>\n",
       "      <td>0.0</td>\n",
       "      <td>13.0</td>\n",
       "      <td>0.0</td>\n",
       "      <td>...</td>\n",
       "      <td>0.077787</td>\n",
       "      <td>-0.021219</td>\n",
       "      <td>-0.108340</td>\n",
       "      <td>0.082966</td>\n",
       "      <td>-0.023025</td>\n",
       "      <td>-0.151510</td>\n",
       "      <td>-0.094314</td>\n",
       "      <td>-0.015233</td>\n",
       "      <td>-0.099512</td>\n",
       "      <td>0.163292</td>\n",
       "    </tr>\n",
       "    <tr>\n",
       "      <th>1</th>\n",
       "      <td>30.0</td>\n",
       "      <td>['30-minutes-or-less', 'time-to-make', 'course...</td>\n",
       "      <td>9</td>\n",
       "      <td>['preheat oven to 425 degrees f', 'press dough...</td>\n",
       "      <td>['prepared pizza crust', 'sausage patty', 'egg...</td>\n",
       "      <td>6</td>\n",
       "      <td>173.4</td>\n",
       "      <td>18.0</td>\n",
       "      <td>0.0</td>\n",
       "      <td>17.0</td>\n",
       "      <td>...</td>\n",
       "      <td>0.075247</td>\n",
       "      <td>-0.016684</td>\n",
       "      <td>-0.097976</td>\n",
       "      <td>0.089674</td>\n",
       "      <td>-0.020199</td>\n",
       "      <td>-0.157902</td>\n",
       "      <td>-0.099359</td>\n",
       "      <td>-0.024231</td>\n",
       "      <td>-0.115934</td>\n",
       "      <td>0.174161</td>\n",
       "    </tr>\n",
       "    <tr>\n",
       "      <th>2</th>\n",
       "      <td>130.0</td>\n",
       "      <td>['time-to-make', 'course', 'preparation', 'mai...</td>\n",
       "      <td>6</td>\n",
       "      <td>['brown ground beef in large pot', 'add choppe...</td>\n",
       "      <td>['ground beef', 'yellow onions', 'diced tomato...</td>\n",
       "      <td>13</td>\n",
       "      <td>269.8</td>\n",
       "      <td>22.0</td>\n",
       "      <td>32.0</td>\n",
       "      <td>48.0</td>\n",
       "      <td>...</td>\n",
       "      <td>0.073741</td>\n",
       "      <td>0.008169</td>\n",
       "      <td>-0.095845</td>\n",
       "      <td>0.099344</td>\n",
       "      <td>-0.027458</td>\n",
       "      <td>-0.156142</td>\n",
       "      <td>-0.102071</td>\n",
       "      <td>-0.029160</td>\n",
       "      <td>-0.117177</td>\n",
       "      <td>0.143143</td>\n",
       "    </tr>\n",
       "    <tr>\n",
       "      <th>3</th>\n",
       "      <td>45.0</td>\n",
       "      <td>['60-minutes-or-less', 'time-to-make', 'course...</td>\n",
       "      <td>11</td>\n",
       "      <td>['place potatoes in a large pot of lightly sal...</td>\n",
       "      <td>['spreadable cheese with garlic and herbs', 'n...</td>\n",
       "      <td>11</td>\n",
       "      <td>368.1</td>\n",
       "      <td>17.0</td>\n",
       "      <td>10.0</td>\n",
       "      <td>2.0</td>\n",
       "      <td>...</td>\n",
       "      <td>0.055963</td>\n",
       "      <td>-0.013878</td>\n",
       "      <td>-0.093955</td>\n",
       "      <td>0.098748</td>\n",
       "      <td>-0.030504</td>\n",
       "      <td>-0.156058</td>\n",
       "      <td>-0.100010</td>\n",
       "      <td>-0.029330</td>\n",
       "      <td>-0.098124</td>\n",
       "      <td>0.148429</td>\n",
       "    </tr>\n",
       "    <tr>\n",
       "      <th>4</th>\n",
       "      <td>190.0</td>\n",
       "      <td>['weeknight', 'time-to-make', 'course', 'main-...</td>\n",
       "      <td>5</td>\n",
       "      <td>['mix all ingredients&amp; boil for 2 1 / 2 hours ...</td>\n",
       "      <td>['tomato juice', 'apple cider vinegar', 'sugar...</td>\n",
       "      <td>8</td>\n",
       "      <td>352.9</td>\n",
       "      <td>1.0</td>\n",
       "      <td>337.0</td>\n",
       "      <td>23.0</td>\n",
       "      <td>...</td>\n",
       "      <td>0.070195</td>\n",
       "      <td>-0.003748</td>\n",
       "      <td>-0.111147</td>\n",
       "      <td>0.095595</td>\n",
       "      <td>-0.023147</td>\n",
       "      <td>-0.169922</td>\n",
       "      <td>-0.114124</td>\n",
       "      <td>-0.024847</td>\n",
       "      <td>-0.093887</td>\n",
       "      <td>0.163635</td>\n",
       "    </tr>\n",
       "  </tbody>\n",
       "</table>\n",
       "<p>5 rows × 615 columns</p>\n",
       "</div>"
      ],
      "text/plain": [
       "   minutes                                               tags  n_steps  \\\n",
       "0     55.0  ['60-minutes-or-less', 'time-to-make', 'course...       11   \n",
       "1     30.0  ['30-minutes-or-less', 'time-to-make', 'course...        9   \n",
       "2    130.0  ['time-to-make', 'course', 'preparation', 'mai...        6   \n",
       "3     45.0  ['60-minutes-or-less', 'time-to-make', 'course...       11   \n",
       "4    190.0  ['weeknight', 'time-to-make', 'course', 'main-...        5   \n",
       "\n",
       "                                               steps  \\\n",
       "0  ['make a choice and proceed with recipe', 'dep...   \n",
       "1  ['preheat oven to 425 degrees f', 'press dough...   \n",
       "2  ['brown ground beef in large pot', 'add choppe...   \n",
       "3  ['place potatoes in a large pot of lightly sal...   \n",
       "4  ['mix all ingredients& boil for 2 1 / 2 hours ...   \n",
       "\n",
       "                                         ingredients  n_ingredients  \\\n",
       "0  ['winter squash', 'mexican seasoning', 'mixed ...              7   \n",
       "1  ['prepared pizza crust', 'sausage patty', 'egg...              6   \n",
       "2  ['ground beef', 'yellow onions', 'diced tomato...             13   \n",
       "3  ['spreadable cheese with garlic and herbs', 'n...             11   \n",
       "4  ['tomato juice', 'apple cider vinegar', 'sugar...              8   \n",
       "\n",
       "   calories (#)  total fat (PDV)  sugar (PDV)  sodium (PDV)  ...  \\\n",
       "0          51.5              0.0         13.0           0.0  ...   \n",
       "1         173.4             18.0          0.0          17.0  ...   \n",
       "2         269.8             22.0         32.0          48.0  ...   \n",
       "3         368.1             17.0         10.0           2.0  ...   \n",
       "4         352.9              1.0        337.0          23.0  ...   \n",
       "\n",
       "   description_embedding_290  description_embedding_291  \\\n",
       "0                   0.077787                  -0.021219   \n",
       "1                   0.075247                  -0.016684   \n",
       "2                   0.073741                   0.008169   \n",
       "3                   0.055963                  -0.013878   \n",
       "4                   0.070195                  -0.003748   \n",
       "\n",
       "   description_embedding_292  description_embedding_293  \\\n",
       "0                  -0.108340                   0.082966   \n",
       "1                  -0.097976                   0.089674   \n",
       "2                  -0.095845                   0.099344   \n",
       "3                  -0.093955                   0.098748   \n",
       "4                  -0.111147                   0.095595   \n",
       "\n",
       "   description_embedding_294  description_embedding_295  \\\n",
       "0                  -0.023025                  -0.151510   \n",
       "1                  -0.020199                  -0.157902   \n",
       "2                  -0.027458                  -0.156142   \n",
       "3                  -0.030504                  -0.156058   \n",
       "4                  -0.023147                  -0.169922   \n",
       "\n",
       "   description_embedding_296  description_embedding_297  \\\n",
       "0                  -0.094314                  -0.015233   \n",
       "1                  -0.099359                  -0.024231   \n",
       "2                  -0.102071                  -0.029160   \n",
       "3                  -0.100010                  -0.029330   \n",
       "4                  -0.114124                  -0.024847   \n",
       "\n",
       "   description_embedding_298  description_embedding_299  \n",
       "0                  -0.099512                   0.163292  \n",
       "1                  -0.115934                   0.174161  \n",
       "2                  -0.117177                   0.143143  \n",
       "3                  -0.098124                   0.148429  \n",
       "4                  -0.093887                   0.163635  \n",
       "\n",
       "[5 rows x 615 columns]"
      ]
     },
     "execution_count": 42,
     "metadata": {},
     "output_type": "execute_result"
    }
   ],
   "source": [
    "recipe_df.head()"
   ]
  },
  {
   "cell_type": "markdown",
   "metadata": {},
   "source": [
    "We will now set a checkpoint of our work by storing all current progress in a csv and restarting the kernel."
   ]
  },
  {
   "cell_type": "code",
   "execution_count": 43,
   "metadata": {},
   "outputs": [],
   "source": [
    "recipe_df.to_csv(\"../data/processed/processed_description.csv\", index=False)"
   ]
  },
  {
   "cell_type": "code",
   "execution_count": 1,
   "metadata": {},
   "outputs": [],
   "source": [
    "%reset -f\n",
    "import re\n",
    "import numpy as np\n",
    "import pandas as pd\n",
    "from gensim.models import KeyedVectors"
   ]
  },
  {
   "cell_type": "markdown",
   "metadata": {},
   "source": [
    "### Sum of average word embeddings - tags, ingredients"
   ]
  },
  {
   "cell_type": "markdown",
   "metadata": {},
   "source": [
    "There are several columns in our dataset that have to do with raw text that either contains the name of a recipe, the steps to be followed to make it or the ingredients it requires. All these data are, like the rest, very useful to feed our model with valuable information that will improve the quality of our recommendations. But as mentioned before, categorical variables must first be transformed before they can be used. Words can either be treated with One-Hot Encoding, which converts each distinct value into an independent Boolean category; or with embeddings, which are a representation of the words in the model."
   ]
  },
  {
   "cell_type": "markdown",
   "metadata": {},
   "source": [
    "Unlike the previous case, we will process the tags and ingredients columns in such a way that we will sum the embeddings of each string list instead of calculating their average. This is done to capture a description of the complete dataset for components that are not directly related to each other. Each ingredient or tag may present different aspects of our recipes, so summing the embeddings preserves the importance of each individual element."
   ]
  },
  {
   "cell_type": "markdown",
   "metadata": {},
   "source": [
    "Much of the functionality is already defined in the function we declared earlier, however, we need to modify it so that instead of calculating the average, it calculates the sum of the embeddings."
   ]
  },
  {
   "cell_type": "code",
   "execution_count": 2,
   "metadata": {},
   "outputs": [],
   "source": [
    "def word_lists_to_embedding_list(word_lists, model):\n",
    "    embeddings = []\n",
    "\n",
    "    for sublist in word_lists:\n",
    "        sublist_embeddings = []\n",
    "        for word_list in sublist:\n",
    "            inner_embeddings = []\n",
    "            for word in word_list:\n",
    "                if word in model:\n",
    "                    word_embeddings = model[word]\n",
    "                    inner_embeddings.append(word_embeddings)\n",
    "\n",
    "            if inner_embeddings:  \n",
    "                average_embedding = np.mean(inner_embeddings, axis=0)\n",
    "                sublist_embeddings.append(average_embedding)\n",
    "\n",
    "        if sublist_embeddings:\n",
    "            total_embedding = np.sum(sublist_embeddings, axis=0)\n",
    "            embeddings.append(total_embedding)\n",
    "    \n",
    "    return embeddings"
   ]
  },
  {
   "cell_type": "code",
   "execution_count": 3,
   "metadata": {},
   "outputs": [
    {
     "name": "stdout",
     "output_type": "stream",
     "text": [
      "<class 'pandas.core.frame.DataFrame'>\n",
      "RangeIndex: 226657 entries, 0 to 226656\n",
      "Columns: 615 entries, minutes to description_embedding_299\n",
      "dtypes: float64(608), int64(4), object(3)\n",
      "memory usage: 1.0+ GB\n"
     ]
    }
   ],
   "source": [
    "recipe_df = pd.read_csv('../data/processed/processed_description.csv')\n",
    "recipe_df.info()"
   ]
  },
  {
   "cell_type": "code",
   "execution_count": 4,
   "metadata": {},
   "outputs": [
    {
     "data": {
      "text/plain": [
       "\"['60-minutes-or-less', 'time-to-make', 'course', 'main-ingredient', 'cuisine', 'preparation', 'occasion', 'north-american', 'side-dishes', 'vegetables', 'mexican', 'easy', 'fall', 'holiday-event', 'vegetarian', 'winter', 'dietary', 'christmas', 'seasonal', 'squash']\""
      ]
     },
     "execution_count": 4,
     "metadata": {},
     "output_type": "execute_result"
    }
   ],
   "source": [
    "processed_tag_list = recipe_df['tags'].tolist()\n",
    "processed_tag_list[0]"
   ]
  },
  {
   "cell_type": "code",
   "execution_count": 5,
   "metadata": {},
   "outputs": [],
   "source": [
    "def word_pp(feature_list):\n",
    "    super_list = []\n",
    "    for elm in feature_list:\n",
    "        input_string = elm.strip(\"[]\").replace(\"'\", \"\")        \n",
    "        items = input_string.split(\", \")\n",
    "        super_list.append([re.split(r\"[-\\s]\", item) for item in items])\n",
    "        \n",
    "    return super_list"
   ]
  },
  {
   "cell_type": "code",
   "execution_count": 6,
   "metadata": {},
   "outputs": [
    {
     "data": {
      "text/plain": [
       "[['60', 'minutes', 'or', 'less'],\n",
       " ['time', 'to', 'make'],\n",
       " ['course'],\n",
       " ['main', 'ingredient'],\n",
       " ['cuisine'],\n",
       " ['preparation'],\n",
       " ['occasion'],\n",
       " ['north', 'american'],\n",
       " ['side', 'dishes'],\n",
       " ['vegetables'],\n",
       " ['mexican'],\n",
       " ['easy'],\n",
       " ['fall'],\n",
       " ['holiday', 'event'],\n",
       " ['vegetarian'],\n",
       " ['winter'],\n",
       " ['dietary'],\n",
       " ['christmas'],\n",
       " ['seasonal'],\n",
       " ['squash']]"
      ]
     },
     "execution_count": 6,
     "metadata": {},
     "output_type": "execute_result"
    }
   ],
   "source": [
    "splitted_tag_list = word_pp(processed_tag_list)\n",
    "splitted_tag_list[0]"
   ]
  },
  {
   "cell_type": "code",
   "execution_count": 7,
   "metadata": {},
   "outputs": [],
   "source": [
    "del processed_tag_list"
   ]
  },
  {
   "cell_type": "code",
   "execution_count": 8,
   "metadata": {},
   "outputs": [],
   "source": [
    "model = KeyedVectors.load_word2vec_format('../data/embeddings/GoogleNews-vectors-negative300.bin', binary=True)"
   ]
  },
  {
   "cell_type": "code",
   "execution_count": 9,
   "metadata": {},
   "outputs": [],
   "source": [
    "embeddings = word_lists_to_embedding_list(splitted_tag_list, model)"
   ]
  },
  {
   "cell_type": "code",
   "execution_count": 10,
   "metadata": {},
   "outputs": [],
   "source": [
    "tag_embeddings_df = pd.DataFrame(embeddings)\n",
    "tag_embeddings_df.columns = [f'tag_embedding_{i}' for i in range(tag_embeddings_df.shape[1])]\n",
    "\n",
    "recipe_df = pd.concat([recipe_df, tag_embeddings_df], axis=1)"
   ]
  },
  {
   "cell_type": "code",
   "execution_count": 11,
   "metadata": {},
   "outputs": [],
   "source": [
    "recipe_df.drop(columns=['tags'], inplace=True)\n",
    "\n",
    "del embeddings\n",
    "del tag_embeddings_df"
   ]
  },
  {
   "cell_type": "code",
   "execution_count": 12,
   "metadata": {},
   "outputs": [
    {
     "data": {
      "text/html": [
       "<div>\n",
       "<style scoped>\n",
       "    .dataframe tbody tr th:only-of-type {\n",
       "        vertical-align: middle;\n",
       "    }\n",
       "\n",
       "    .dataframe tbody tr th {\n",
       "        vertical-align: top;\n",
       "    }\n",
       "\n",
       "    .dataframe thead th {\n",
       "        text-align: right;\n",
       "    }\n",
       "</style>\n",
       "<table border=\"1\" class=\"dataframe\">\n",
       "  <thead>\n",
       "    <tr style=\"text-align: right;\">\n",
       "      <th></th>\n",
       "      <th>minutes</th>\n",
       "      <th>n_steps</th>\n",
       "      <th>steps</th>\n",
       "      <th>ingredients</th>\n",
       "      <th>n_ingredients</th>\n",
       "      <th>calories (#)</th>\n",
       "      <th>total fat (PDV)</th>\n",
       "      <th>sugar (PDV)</th>\n",
       "      <th>sodium (PDV)</th>\n",
       "      <th>protein (PDV)</th>\n",
       "      <th>...</th>\n",
       "      <th>tag_embedding_290</th>\n",
       "      <th>tag_embedding_291</th>\n",
       "      <th>tag_embedding_292</th>\n",
       "      <th>tag_embedding_293</th>\n",
       "      <th>tag_embedding_294</th>\n",
       "      <th>tag_embedding_295</th>\n",
       "      <th>tag_embedding_296</th>\n",
       "      <th>tag_embedding_297</th>\n",
       "      <th>tag_embedding_298</th>\n",
       "      <th>tag_embedding_299</th>\n",
       "    </tr>\n",
       "  </thead>\n",
       "  <tbody>\n",
       "    <tr>\n",
       "      <th>0</th>\n",
       "      <td>55.0</td>\n",
       "      <td>11</td>\n",
       "      <td>['make a choice and proceed with recipe', 'dep...</td>\n",
       "      <td>['winter squash', 'mexican seasoning', 'mixed ...</td>\n",
       "      <td>7</td>\n",
       "      <td>51.5</td>\n",
       "      <td>0.0</td>\n",
       "      <td>13.0</td>\n",
       "      <td>0.0</td>\n",
       "      <td>2.0</td>\n",
       "      <td>...</td>\n",
       "      <td>-1.110026</td>\n",
       "      <td>-0.505341</td>\n",
       "      <td>-1.619995</td>\n",
       "      <td>2.034953</td>\n",
       "      <td>1.601379</td>\n",
       "      <td>-0.760895</td>\n",
       "      <td>-0.411180</td>\n",
       "      <td>-0.443723</td>\n",
       "      <td>3.124766</td>\n",
       "      <td>0.736623</td>\n",
       "    </tr>\n",
       "    <tr>\n",
       "      <th>1</th>\n",
       "      <td>30.0</td>\n",
       "      <td>9</td>\n",
       "      <td>['preheat oven to 425 degrees f', 'press dough...</td>\n",
       "      <td>['prepared pizza crust', 'sausage patty', 'egg...</td>\n",
       "      <td>6</td>\n",
       "      <td>173.4</td>\n",
       "      <td>18.0</td>\n",
       "      <td>0.0</td>\n",
       "      <td>17.0</td>\n",
       "      <td>22.0</td>\n",
       "      <td>...</td>\n",
       "      <td>-2.268321</td>\n",
       "      <td>-0.442485</td>\n",
       "      <td>-1.566488</td>\n",
       "      <td>2.782654</td>\n",
       "      <td>1.219177</td>\n",
       "      <td>-1.614218</td>\n",
       "      <td>0.097033</td>\n",
       "      <td>0.138430</td>\n",
       "      <td>1.909332</td>\n",
       "      <td>0.172658</td>\n",
       "    </tr>\n",
       "    <tr>\n",
       "      <th>2</th>\n",
       "      <td>130.0</td>\n",
       "      <td>6</td>\n",
       "      <td>['brown ground beef in large pot', 'add choppe...</td>\n",
       "      <td>['ground beef', 'yellow onions', 'diced tomato...</td>\n",
       "      <td>13</td>\n",
       "      <td>269.8</td>\n",
       "      <td>22.0</td>\n",
       "      <td>32.0</td>\n",
       "      <td>48.0</td>\n",
       "      <td>39.0</td>\n",
       "      <td>...</td>\n",
       "      <td>-0.702545</td>\n",
       "      <td>-0.280579</td>\n",
       "      <td>-0.828491</td>\n",
       "      <td>0.979553</td>\n",
       "      <td>0.914703</td>\n",
       "      <td>-1.021383</td>\n",
       "      <td>-0.233543</td>\n",
       "      <td>-0.104317</td>\n",
       "      <td>0.510527</td>\n",
       "      <td>0.278717</td>\n",
       "    </tr>\n",
       "    <tr>\n",
       "      <th>3</th>\n",
       "      <td>45.0</td>\n",
       "      <td>11</td>\n",
       "      <td>['place potatoes in a large pot of lightly sal...</td>\n",
       "      <td>['spreadable cheese with garlic and herbs', 'n...</td>\n",
       "      <td>11</td>\n",
       "      <td>368.1</td>\n",
       "      <td>17.0</td>\n",
       "      <td>10.0</td>\n",
       "      <td>2.0</td>\n",
       "      <td>14.0</td>\n",
       "      <td>...</td>\n",
       "      <td>-0.884379</td>\n",
       "      <td>-0.890625</td>\n",
       "      <td>-3.592590</td>\n",
       "      <td>2.539713</td>\n",
       "      <td>1.671143</td>\n",
       "      <td>-2.836518</td>\n",
       "      <td>-1.900903</td>\n",
       "      <td>-0.834501</td>\n",
       "      <td>1.268351</td>\n",
       "      <td>1.325002</td>\n",
       "    </tr>\n",
       "    <tr>\n",
       "      <th>4</th>\n",
       "      <td>190.0</td>\n",
       "      <td>5</td>\n",
       "      <td>['mix all ingredients&amp; boil for 2 1 / 2 hours ...</td>\n",
       "      <td>['tomato juice', 'apple cider vinegar', 'sugar...</td>\n",
       "      <td>8</td>\n",
       "      <td>352.9</td>\n",
       "      <td>1.0</td>\n",
       "      <td>337.0</td>\n",
       "      <td>23.0</td>\n",
       "      <td>3.0</td>\n",
       "      <td>...</td>\n",
       "      <td>-1.649628</td>\n",
       "      <td>-1.051737</td>\n",
       "      <td>-2.127584</td>\n",
       "      <td>1.520528</td>\n",
       "      <td>1.211090</td>\n",
       "      <td>-1.426718</td>\n",
       "      <td>-0.251991</td>\n",
       "      <td>-0.098915</td>\n",
       "      <td>3.097295</td>\n",
       "      <td>1.009338</td>\n",
       "    </tr>\n",
       "  </tbody>\n",
       "</table>\n",
       "<p>5 rows × 914 columns</p>\n",
       "</div>"
      ],
      "text/plain": [
       "   minutes  n_steps                                              steps  \\\n",
       "0     55.0       11  ['make a choice and proceed with recipe', 'dep...   \n",
       "1     30.0        9  ['preheat oven to 425 degrees f', 'press dough...   \n",
       "2    130.0        6  ['brown ground beef in large pot', 'add choppe...   \n",
       "3     45.0       11  ['place potatoes in a large pot of lightly sal...   \n",
       "4    190.0        5  ['mix all ingredients& boil for 2 1 / 2 hours ...   \n",
       "\n",
       "                                         ingredients  n_ingredients  \\\n",
       "0  ['winter squash', 'mexican seasoning', 'mixed ...              7   \n",
       "1  ['prepared pizza crust', 'sausage patty', 'egg...              6   \n",
       "2  ['ground beef', 'yellow onions', 'diced tomato...             13   \n",
       "3  ['spreadable cheese with garlic and herbs', 'n...             11   \n",
       "4  ['tomato juice', 'apple cider vinegar', 'sugar...              8   \n",
       "\n",
       "   calories (#)  total fat (PDV)  sugar (PDV)  sodium (PDV)  protein (PDV)  \\\n",
       "0          51.5              0.0         13.0           0.0            2.0   \n",
       "1         173.4             18.0          0.0          17.0           22.0   \n",
       "2         269.8             22.0         32.0          48.0           39.0   \n",
       "3         368.1             17.0         10.0           2.0           14.0   \n",
       "4         352.9              1.0        337.0          23.0            3.0   \n",
       "\n",
       "   ...  tag_embedding_290  tag_embedding_291  tag_embedding_292  \\\n",
       "0  ...          -1.110026          -0.505341          -1.619995   \n",
       "1  ...          -2.268321          -0.442485          -1.566488   \n",
       "2  ...          -0.702545          -0.280579          -0.828491   \n",
       "3  ...          -0.884379          -0.890625          -3.592590   \n",
       "4  ...          -1.649628          -1.051737          -2.127584   \n",
       "\n",
       "   tag_embedding_293  tag_embedding_294  tag_embedding_295  tag_embedding_296  \\\n",
       "0           2.034953           1.601379          -0.760895          -0.411180   \n",
       "1           2.782654           1.219177          -1.614218           0.097033   \n",
       "2           0.979553           0.914703          -1.021383          -0.233543   \n",
       "3           2.539713           1.671143          -2.836518          -1.900903   \n",
       "4           1.520528           1.211090          -1.426718          -0.251991   \n",
       "\n",
       "   tag_embedding_297  tag_embedding_298  tag_embedding_299  \n",
       "0          -0.443723           3.124766           0.736623  \n",
       "1           0.138430           1.909332           0.172658  \n",
       "2          -0.104317           0.510527           0.278717  \n",
       "3          -0.834501           1.268351           1.325002  \n",
       "4          -0.098915           3.097295           1.009338  \n",
       "\n",
       "[5 rows x 914 columns]"
      ]
     },
     "execution_count": 12,
     "metadata": {},
     "output_type": "execute_result"
    }
   ],
   "source": [
    "recipe_df.head()"
   ]
  },
  {
   "cell_type": "code",
   "execution_count": 15,
   "metadata": {},
   "outputs": [
    {
     "data": {
      "text/plain": [
       "\"['winter squash', 'mexican seasoning', 'mixed spice', 'honey', 'butter', 'olive oil', 'salt']\""
      ]
     },
     "execution_count": 15,
     "metadata": {},
     "output_type": "execute_result"
    }
   ],
   "source": [
    "processed_ingredient_list = recipe_df['ingredients'].tolist()\n",
    "processed_ingredient_list[0]"
   ]
  },
  {
   "cell_type": "code",
   "execution_count": 16,
   "metadata": {},
   "outputs": [
    {
     "data": {
      "text/plain": [
       "[['winter', 'squash'],\n",
       " ['mexican', 'seasoning'],\n",
       " ['mixed', 'spice'],\n",
       " ['honey'],\n",
       " ['butter'],\n",
       " ['olive', 'oil'],\n",
       " ['salt']]"
      ]
     },
     "execution_count": 16,
     "metadata": {},
     "output_type": "execute_result"
    }
   ],
   "source": [
    "splitted_ingredient_list = word_pp(processed_ingredient_list)\n",
    "splitted_ingredient_list[0]"
   ]
  },
  {
   "cell_type": "code",
   "execution_count": 17,
   "metadata": {},
   "outputs": [],
   "source": [
    "del processed_ingredient_list"
   ]
  },
  {
   "cell_type": "code",
   "execution_count": 18,
   "metadata": {},
   "outputs": [],
   "source": [
    "embeddings = word_lists_to_embedding_list(splitted_ingredient_list, model)"
   ]
  },
  {
   "cell_type": "code",
   "execution_count": 19,
   "metadata": {},
   "outputs": [],
   "source": [
    "ingredient_embeddings_df = pd.DataFrame(embeddings)\n",
    "ingredient_embeddings_df.columns = [f'ingredients_embedding_{i}' for i in range(ingredient_embeddings_df.shape[1])]\n",
    "\n",
    "recipe_df = pd.concat([recipe_df, ingredient_embeddings_df], axis=1)"
   ]
  },
  {
   "cell_type": "code",
   "execution_count": 20,
   "metadata": {},
   "outputs": [],
   "source": [
    "recipe_df.drop(columns=['ingredients'], inplace=True)\n",
    "\n",
    "del embeddings\n",
    "del ingredient_embeddings_df"
   ]
  },
  {
   "cell_type": "code",
   "execution_count": 21,
   "metadata": {},
   "outputs": [
    {
     "data": {
      "text/html": [
       "<div>\n",
       "<style scoped>\n",
       "    .dataframe tbody tr th:only-of-type {\n",
       "        vertical-align: middle;\n",
       "    }\n",
       "\n",
       "    .dataframe tbody tr th {\n",
       "        vertical-align: top;\n",
       "    }\n",
       "\n",
       "    .dataframe thead th {\n",
       "        text-align: right;\n",
       "    }\n",
       "</style>\n",
       "<table border=\"1\" class=\"dataframe\">\n",
       "  <thead>\n",
       "    <tr style=\"text-align: right;\">\n",
       "      <th></th>\n",
       "      <th>minutes</th>\n",
       "      <th>n_steps</th>\n",
       "      <th>steps</th>\n",
       "      <th>n_ingredients</th>\n",
       "      <th>calories (#)</th>\n",
       "      <th>total fat (PDV)</th>\n",
       "      <th>sugar (PDV)</th>\n",
       "      <th>sodium (PDV)</th>\n",
       "      <th>protein (PDV)</th>\n",
       "      <th>saturated fat (PDV)</th>\n",
       "      <th>...</th>\n",
       "      <th>ingredients_embedding_290</th>\n",
       "      <th>ingredients_embedding_291</th>\n",
       "      <th>ingredients_embedding_292</th>\n",
       "      <th>ingredients_embedding_293</th>\n",
       "      <th>ingredients_embedding_294</th>\n",
       "      <th>ingredients_embedding_295</th>\n",
       "      <th>ingredients_embedding_296</th>\n",
       "      <th>ingredients_embedding_297</th>\n",
       "      <th>ingredients_embedding_298</th>\n",
       "      <th>ingredients_embedding_299</th>\n",
       "    </tr>\n",
       "  </thead>\n",
       "  <tbody>\n",
       "    <tr>\n",
       "      <th>0</th>\n",
       "      <td>55.0</td>\n",
       "      <td>11</td>\n",
       "      <td>['make a choice and proceed with recipe', 'dep...</td>\n",
       "      <td>7</td>\n",
       "      <td>51.5</td>\n",
       "      <td>0.0</td>\n",
       "      <td>13.0</td>\n",
       "      <td>0.0</td>\n",
       "      <td>2.0</td>\n",
       "      <td>0.0</td>\n",
       "      <td>...</td>\n",
       "      <td>-1.083740</td>\n",
       "      <td>-1.398193</td>\n",
       "      <td>-0.293701</td>\n",
       "      <td>0.235867</td>\n",
       "      <td>0.470703</td>\n",
       "      <td>-0.183716</td>\n",
       "      <td>0.675709</td>\n",
       "      <td>-0.111191</td>\n",
       "      <td>0.439026</td>\n",
       "      <td>0.061096</td>\n",
       "    </tr>\n",
       "    <tr>\n",
       "      <th>1</th>\n",
       "      <td>30.0</td>\n",
       "      <td>9</td>\n",
       "      <td>['preheat oven to 425 degrees f', 'press dough...</td>\n",
       "      <td>6</td>\n",
       "      <td>173.4</td>\n",
       "      <td>18.0</td>\n",
       "      <td>0.0</td>\n",
       "      <td>17.0</td>\n",
       "      <td>22.0</td>\n",
       "      <td>35.0</td>\n",
       "      <td>...</td>\n",
       "      <td>-0.662560</td>\n",
       "      <td>-1.177979</td>\n",
       "      <td>-0.897522</td>\n",
       "      <td>0.892944</td>\n",
       "      <td>0.913371</td>\n",
       "      <td>-0.305518</td>\n",
       "      <td>0.589294</td>\n",
       "      <td>0.458618</td>\n",
       "      <td>-0.207397</td>\n",
       "      <td>-0.178802</td>\n",
       "    </tr>\n",
       "    <tr>\n",
       "      <th>2</th>\n",
       "      <td>130.0</td>\n",
       "      <td>6</td>\n",
       "      <td>['brown ground beef in large pot', 'add choppe...</td>\n",
       "      <td>13</td>\n",
       "      <td>269.8</td>\n",
       "      <td>22.0</td>\n",
       "      <td>32.0</td>\n",
       "      <td>48.0</td>\n",
       "      <td>39.0</td>\n",
       "      <td>27.0</td>\n",
       "      <td>...</td>\n",
       "      <td>-0.973541</td>\n",
       "      <td>-2.115479</td>\n",
       "      <td>-0.882965</td>\n",
       "      <td>1.554199</td>\n",
       "      <td>3.671631</td>\n",
       "      <td>0.762695</td>\n",
       "      <td>0.515015</td>\n",
       "      <td>0.810699</td>\n",
       "      <td>1.934326</td>\n",
       "      <td>1.339661</td>\n",
       "    </tr>\n",
       "    <tr>\n",
       "      <th>3</th>\n",
       "      <td>45.0</td>\n",
       "      <td>11</td>\n",
       "      <td>['place potatoes in a large pot of lightly sal...</td>\n",
       "      <td>11</td>\n",
       "      <td>368.1</td>\n",
       "      <td>17.0</td>\n",
       "      <td>10.0</td>\n",
       "      <td>2.0</td>\n",
       "      <td>14.0</td>\n",
       "      <td>8.0</td>\n",
       "      <td>...</td>\n",
       "      <td>-0.152096</td>\n",
       "      <td>-2.067662</td>\n",
       "      <td>-0.346872</td>\n",
       "      <td>0.866398</td>\n",
       "      <td>2.786955</td>\n",
       "      <td>-0.513395</td>\n",
       "      <td>1.223482</td>\n",
       "      <td>-0.481433</td>\n",
       "      <td>1.858529</td>\n",
       "      <td>2.043416</td>\n",
       "    </tr>\n",
       "    <tr>\n",
       "      <th>4</th>\n",
       "      <td>190.0</td>\n",
       "      <td>5</td>\n",
       "      <td>['mix all ingredients&amp; boil for 2 1 / 2 hours ...</td>\n",
       "      <td>8</td>\n",
       "      <td>352.9</td>\n",
       "      <td>1.0</td>\n",
       "      <td>337.0</td>\n",
       "      <td>23.0</td>\n",
       "      <td>3.0</td>\n",
       "      <td>0.0</td>\n",
       "      <td>...</td>\n",
       "      <td>-0.923920</td>\n",
       "      <td>-2.042155</td>\n",
       "      <td>0.274478</td>\n",
       "      <td>0.115153</td>\n",
       "      <td>0.815023</td>\n",
       "      <td>-0.197571</td>\n",
       "      <td>0.580994</td>\n",
       "      <td>0.959798</td>\n",
       "      <td>0.732056</td>\n",
       "      <td>0.610514</td>\n",
       "    </tr>\n",
       "  </tbody>\n",
       "</table>\n",
       "<p>5 rows × 1213 columns</p>\n",
       "</div>"
      ],
      "text/plain": [
       "   minutes  n_steps                                              steps  \\\n",
       "0     55.0       11  ['make a choice and proceed with recipe', 'dep...   \n",
       "1     30.0        9  ['preheat oven to 425 degrees f', 'press dough...   \n",
       "2    130.0        6  ['brown ground beef in large pot', 'add choppe...   \n",
       "3     45.0       11  ['place potatoes in a large pot of lightly sal...   \n",
       "4    190.0        5  ['mix all ingredients& boil for 2 1 / 2 hours ...   \n",
       "\n",
       "   n_ingredients  calories (#)  total fat (PDV)  sugar (PDV)  sodium (PDV)  \\\n",
       "0              7          51.5              0.0         13.0           0.0   \n",
       "1              6         173.4             18.0          0.0          17.0   \n",
       "2             13         269.8             22.0         32.0          48.0   \n",
       "3             11         368.1             17.0         10.0           2.0   \n",
       "4              8         352.9              1.0        337.0          23.0   \n",
       "\n",
       "   protein (PDV)  saturated fat (PDV)  ...  ingredients_embedding_290  \\\n",
       "0            2.0                  0.0  ...                  -1.083740   \n",
       "1           22.0                 35.0  ...                  -0.662560   \n",
       "2           39.0                 27.0  ...                  -0.973541   \n",
       "3           14.0                  8.0  ...                  -0.152096   \n",
       "4            3.0                  0.0  ...                  -0.923920   \n",
       "\n",
       "   ingredients_embedding_291  ingredients_embedding_292  \\\n",
       "0                  -1.398193                  -0.293701   \n",
       "1                  -1.177979                  -0.897522   \n",
       "2                  -2.115479                  -0.882965   \n",
       "3                  -2.067662                  -0.346872   \n",
       "4                  -2.042155                   0.274478   \n",
       "\n",
       "   ingredients_embedding_293  ingredients_embedding_294  \\\n",
       "0                   0.235867                   0.470703   \n",
       "1                   0.892944                   0.913371   \n",
       "2                   1.554199                   3.671631   \n",
       "3                   0.866398                   2.786955   \n",
       "4                   0.115153                   0.815023   \n",
       "\n",
       "   ingredients_embedding_295  ingredients_embedding_296  \\\n",
       "0                  -0.183716                   0.675709   \n",
       "1                  -0.305518                   0.589294   \n",
       "2                   0.762695                   0.515015   \n",
       "3                  -0.513395                   1.223482   \n",
       "4                  -0.197571                   0.580994   \n",
       "\n",
       "   ingredients_embedding_297  ingredients_embedding_298  \\\n",
       "0                  -0.111191                   0.439026   \n",
       "1                   0.458618                  -0.207397   \n",
       "2                   0.810699                   1.934326   \n",
       "3                  -0.481433                   1.858529   \n",
       "4                   0.959798                   0.732056   \n",
       "\n",
       "   ingredients_embedding_299  \n",
       "0                   0.061096  \n",
       "1                  -0.178802  \n",
       "2                   1.339661  \n",
       "3                   2.043416  \n",
       "4                   0.610514  \n",
       "\n",
       "[5 rows x 1213 columns]"
      ]
     },
     "execution_count": 21,
     "metadata": {},
     "output_type": "execute_result"
    }
   ],
   "source": [
    "recipe_df.head()"
   ]
  },
  {
   "cell_type": "code",
   "execution_count": 22,
   "metadata": {},
   "outputs": [],
   "source": [
    "recipe_df.to_csv(\"../data/processed/processed_ingredients.csv\", index=False)"
   ]
  },
  {
   "cell_type": "code",
   "execution_count": 23,
   "metadata": {},
   "outputs": [],
   "source": [
    "%reset -f\n",
    "import re\n",
    "import numpy as np\n",
    "import pandas as pd\n",
    "from gensim.models import KeyedVectors"
   ]
  }
 ],
 "metadata": {
  "kernelspec": {
   "display_name": "Python 3",
   "language": "python",
   "name": "python3"
  },
  "language_info": {
   "codemirror_mode": {
    "name": "ipython",
    "version": 3
   },
   "file_extension": ".py",
   "mimetype": "text/x-python",
   "name": "python",
   "nbconvert_exporter": "python",
   "pygments_lexer": "ipython3",
   "version": "3.10.12"
  }
 },
 "nbformat": 4,
 "nbformat_minor": 2
}
